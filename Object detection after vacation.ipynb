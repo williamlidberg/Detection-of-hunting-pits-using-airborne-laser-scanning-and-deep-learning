{
 "cells": [
  {
   "cell_type": "markdown",
   "id": "86e9d98d",
   "metadata": {},
   "source": [
    "# Mapping cultural remains with object detection\n",
    "All forests in Sweden, both managed forests and natural old-growth forests in national parks, contain a cultural\n",
    "heritage. The long history of forest utilization in Sweden has left a rich legacy of diverse types of ancient\n",
    "monuments and other kinds of cultural remains that document our relationship with the forest and its importance\n",
    "for Sweden’s development. However, the cultural heritage is too often damaged in forestry operations. The aim of\n",
    "the project is to do research and develop operationally useful maps that can be used\n",
    "to identify, protect and enhance the cultural remains in Swedish forests, thereby reducing the destruction of\n",
    "cultural heritage in our forest landscapes."
   ]
  },
  {
   "cell_type": "code",
   "execution_count": 3,
   "id": "25789284",
   "metadata": {},
   "outputs": [
    {
     "name": "stdout",
     "output_type": "stream",
     "text": [
      "Collecting rtree\n",
      "  Downloading Rtree-1.0.0-cp38-cp38-manylinux_2_17_x86_64.manylinux2014_x86_64.whl (1.0 MB)\n",
      "\u001b[2K     \u001b[90m━━━━━━━━━━━━━━━━━━━━━━━━━━━━━━━━━━━━━━━━\u001b[0m \u001b[32m1.0/1.0 MB\u001b[0m \u001b[31m22.4 MB/s\u001b[0m eta \u001b[36m0:00:00\u001b[0ma \u001b[36m0:00:01\u001b[0m\n",
      "\u001b[?25hInstalling collected packages: rtree\n",
      "Successfully installed rtree-1.0.0\n",
      "\u001b[33mWARNING: Running pip as the 'root' user can result in broken permissions and conflicting behaviour with the system package manager. It is recommended to use a virtual environment instead: https://pip.pypa.io/warnings/venv\u001b[0m\u001b[33m\n",
      "\u001b[0m\u001b[33mWARNING: You are using pip version 22.0.4; however, version 22.1.1 is available.\n",
      "You should consider upgrading via the '/usr/bin/python -m pip install --upgrade pip' command.\u001b[0m\u001b[33m\n",
      "\u001b[0m"
     ]
    }
   ],
   "source": [
    "!pip install rtree\n",
    "!pip install torch\n",
    "!pip install torchvision"
   ]
  },
  {
   "cell_type": "markdown",
   "id": "6c7ce6d3",
   "metadata": {},
   "source": [
    "# Split charcoal labels\n"
   ]
  },
  {
   "cell_type": "code",
   "execution_count": null,
   "id": "571a76de",
   "metadata": {},
   "outputs": [
    {
     "name": "stdout",
     "output_type": "stream",
     "text": [
      "Input Image File Shape (D, H, W):(1, 5000, 5000)\n",
      "crop_size=250, stride=250\n",
      "Padding Image File Shape (D, H, W):(1, 5000, 5000)\n",
      "There are 0 files in the /workspace/data/object_detection/split_segmentations_masks/charcoal_kilns\n",
      "New image name will start with 1\n",
      "Generating: 100%|\u001b[32m███████████████████████████\u001b[0m| 400/400 [00:01<00:00, 311.96img/s]\u001b[0m\n",
      "400 tiles sample of /workspace/data/object_detection/segmentation_masks/charcoal_kilns/18D022_67450_5775_25.tif are added at /workspace/data/object_detection/split_segmentations_masks/charcoal_kilns\n",
      "Input Image File Shape (D, H, W):(1, 5000, 5000)\n",
      "crop_size=250, stride=250\n",
      "Padding Image File Shape (D, H, W):(1, 5000, 5000)\n",
      "There are 400 files in the /workspace/data/object_detection/split_segmentations_masks/charcoal_kilns\n",
      "New image name will start with 401\n",
      "Generating: 100%|\u001b[32m███████████████████████████\u001b[0m| 400/400 [00:01<00:00, 314.87img/s]\u001b[0m\n",
      "400 tiles sample of /workspace/data/object_detection/segmentation_masks/charcoal_kilns/18D022_67475_5750_25.tif are added at /workspace/data/object_detection/split_segmentations_masks/charcoal_kilns\n",
      "Input Image File Shape (D, H, W):(1, 5000, 5000)\n",
      "crop_size=250, stride=250\n",
      "Padding Image File Shape (D, H, W):(1, 5000, 5000)\n",
      "There are 800 files in the /workspace/data/object_detection/split_segmentations_masks/charcoal_kilns\n",
      "New image name will start with 801\n",
      "Generating: 100%|\u001b[32m███████████████████████████\u001b[0m| 400/400 [00:01<00:00, 309.18img/s]\u001b[0m\n",
      "400 tiles sample of /workspace/data/object_detection/segmentation_masks/charcoal_kilns/18D022_67475_5775_25.tif are added at /workspace/data/object_detection/split_segmentations_masks/charcoal_kilns\n",
      "Input Image File Shape (D, H, W):(1, 5000, 5000)\n",
      "crop_size=250, stride=250\n",
      "Padding Image File Shape (D, H, W):(1, 5000, 5000)\n",
      "There are 1200 files in the /workspace/data/object_detection/split_segmentations_masks/charcoal_kilns\n",
      "New image name will start with 1201\n",
      "Generating: 100%|\u001b[32m███████████████████████████\u001b[0m| 400/400 [00:01<00:00, 313.99img/s]\u001b[0m\n",
      "400 tiles sample of /workspace/data/object_detection/segmentation_masks/charcoal_kilns/18D029_67500_5750_25.tif are added at /workspace/data/object_detection/split_segmentations_masks/charcoal_kilns\n",
      "Input Image File Shape (D, H, W):(1, 5000, 5000)\n",
      "crop_size=250, stride=250\n",
      "Padding Image File Shape (D, H, W):(1, 5000, 5000)\n",
      "There are 1600 files in the /workspace/data/object_detection/split_segmentations_masks/charcoal_kilns\n",
      "New image name will start with 1601\n",
      "Generating: 100%|\u001b[32m███████████████████████████\u001b[0m| 400/400 [00:01<00:00, 314.26img/s]\u001b[0m\n",
      "400 tiles sample of /workspace/data/object_detection/segmentation_masks/charcoal_kilns/18D029_67525_5700_25.tif are added at /workspace/data/object_detection/split_segmentations_masks/charcoal_kilns\n",
      "Input Image File Shape (D, H, W):(1, 5000, 5000)\n",
      "crop_size=250, stride=250\n",
      "Padding Image File Shape (D, H, W):(1, 5000, 5000)\n",
      "There are 2000 files in the /workspace/data/object_detection/split_segmentations_masks/charcoal_kilns\n",
      "New image name will start with 2001\n",
      "Generating: 100%|\u001b[32m███████████████████████████\u001b[0m| 400/400 [00:01<00:00, 319.71img/s]\u001b[0m\n",
      "400 tiles sample of /workspace/data/object_detection/segmentation_masks/charcoal_kilns/18D029_67550_5675_25.tif are added at /workspace/data/object_detection/split_segmentations_masks/charcoal_kilns\n",
      "Input Image File Shape (D, H, W):(1, 5000, 5000)\n",
      "crop_size=250, stride=250\n",
      "Padding Image File Shape (D, H, W):(1, 5000, 5000)\n",
      "There are 2400 files in the /workspace/data/object_detection/split_segmentations_masks/charcoal_kilns\n",
      "New image name will start with 2401\n",
      "Generating: 100%|\u001b[32m███████████████████████████\u001b[0m| 400/400 [00:01<00:00, 326.43img/s]\u001b[0m\n",
      "400 tiles sample of /workspace/data/object_detection/segmentation_masks/charcoal_kilns/18D029_67600_5750_25.tif are added at /workspace/data/object_detection/split_segmentations_masks/charcoal_kilns\n",
      "Input Image File Shape (D, H, W):(1, 5000, 5000)\n",
      "crop_size=250, stride=250\n",
      "Padding Image File Shape (D, H, W):(1, 5000, 5000)\n",
      "There are 2800 files in the /workspace/data/object_detection/split_segmentations_masks/charcoal_kilns\n",
      "New image name will start with 2801\n",
      "Generating: 100%|\u001b[32m███████████████████████████\u001b[0m| 400/400 [00:01<00:00, 323.23img/s]\u001b[0m\n",
      "400 tiles sample of /workspace/data/object_detection/segmentation_masks/charcoal_kilns/18D029_67625_5750_25.tif are added at /workspace/data/object_detection/split_segmentations_masks/charcoal_kilns\n",
      "Input Image File Shape (D, H, W):(1, 5000, 5000)\n",
      "crop_size=250, stride=250\n",
      "Padding Image File Shape (D, H, W):(1, 5000, 5000)\n",
      "There are 3200 files in the /workspace/data/object_detection/split_segmentations_masks/charcoal_kilns\n",
      "New image name will start with 3201\n",
      "Generating: 100%|\u001b[32m███████████████████████████\u001b[0m| 400/400 [00:01<00:00, 317.19img/s]\u001b[0m\n",
      "400 tiles sample of /workspace/data/object_detection/segmentation_masks/charcoal_kilns/18E028_69000_4550_25.tif are added at /workspace/data/object_detection/split_segmentations_masks/charcoal_kilns\n",
      "Input Image File Shape (D, H, W):(1, 5000, 5000)\n",
      "crop_size=250, stride=250\n",
      "Padding Image File Shape (D, H, W):(1, 5000, 5000)\n",
      "There are 3600 files in the /workspace/data/object_detection/split_segmentations_masks/charcoal_kilns\n",
      "New image name will start with 3601\n",
      "Generating:  57%|\u001b[32m███████████████▍           \u001b[0m| 228/400 [00:00<00:00, 319.13img/s]\u001b[0m"
     ]
    }
   ],
   "source": [
    "!python /workspace/code/tools/split_training_data.py /workspace/data/object_detection/segmentation_masks/charcoal_kilns/ /workspace/data/object_detection/split_segmentations_masks/charcoal_kilns --tile_size 250"
   ]
  },
  {
   "cell_type": "markdown",
   "id": "df6160a5",
   "metadata": {},
   "source": [
    "## Convert segmentation masks to bounding boxes"
   ]
  },
  {
   "cell_type": "code",
   "execution_count": 2,
   "id": "c7bd204e",
   "metadata": {},
   "outputs": [
    {
     "name": "stdout",
     "output_type": "stream",
     "text": [
      "Traceback (most recent call last):\r\n",
      "  File \"/workspace/code/object_detection/masks_to_boxes.py\", line 10, in <module>\r\n",
      "    import pybboxes as pbx\r\n",
      "ModuleNotFoundError: No module named 'pybboxes'\r\n"
     ]
    }
   ],
   "source": [
    "!python /workspace/code/object_detection/masks_to_boxes.py /workspace/temp/ /workspace/data/object_detection/split_segmentations_masks/hunting_pits/ 250 1 /workspace/data/object_detection/bounding_boxes/hunting_pits/"
   ]
  },
  {
   "cell_type": "markdown",
   "id": "8ea4520f",
   "metadata": {},
   "source": [
    "## Topographical modeling"
   ]
  },
  {
   "cell_type": "markdown",
   "id": "b107b87c",
   "metadata": {},
   "source": [
    "### Select Laz tiles intersecting field data"
   ]
  },
  {
   "cell_type": "code",
   "execution_count": 2,
   "id": "5c215d8b",
   "metadata": {
    "scrolled": true
   },
   "outputs": [
    {
     "name": "stdout",
     "output_type": "stream",
     "text": [
      "/workspace/code/create_aoi_poolygon.py:37: FutureWarning: The `op` parameter is deprecated and will be removed in a future release. Please use the `predicate` parameter instead.\r\n",
      "  main(**args)\r\n",
      "Traceback (most recent call last):\r\n",
      "  File \"/workspace/code/create_aoi_poolygon.py\", line 37, in <module>\r\n",
      "    main(**args)\r\n",
      "  File \"/workspace/code/create_aoi_poolygon.py\", line 25, in main\r\n",
      "    copy_tiles(footprint, field_data, input_directory, output_directory)\r\n",
      "  File \"/workspace/code/create_aoi_poolygon.py\", line 13, in copy_tiles\r\n",
      "    intersect = gpd.sjoin(lidar_tiles_footprint, field, how='inner', op='intersects')\r\n",
      "  File \"/usr/local/lib/python3.8/dist-packages/geopandas/tools/sjoin.py\", line 124, in sjoin\r\n",
      "    indices = _geom_predicate_query(left_df, right_df, predicate)\r\n",
      "  File \"/usr/local/lib/python3.8/dist-packages/geopandas/tools/sjoin.py\", line 216, in _geom_predicate_query\r\n",
      "    sindex = right_df.sindex\r\n",
      "  File \"/usr/local/lib/python3.8/dist-packages/geopandas/base.py\", line 2637, in sindex\r\n",
      "    return self.geometry.values.sindex\r\n",
      "  File \"/usr/local/lib/python3.8/dist-packages/geopandas/array.py\", line 292, in sindex\r\n",
      "    self._sindex = _get_sindex_class()(self.data)\r\n",
      "  File \"/usr/local/lib/python3.8/dist-packages/geopandas/sindex.py\", line 21, in _get_sindex_class\r\n",
      "    raise ImportError(\r\n",
      "ImportError: Spatial indexes require either `rtree` or `pygeos`. See installation instructions at https://geopandas.org/install.html\r\n"
     ]
    }
   ],
   "source": [
    "!python /workspace/code/create_aoi_poolygon.py /workspace/lidar/none.shp /workspace/data/hunting_pits/Fangstgrop_training_Holmen_Cissi_695st_220214.shp /workspace/lidar/pooled_laz_files/ /workspace/data/hunting_pits/laz/ "
   ]
  },
  {
   "cell_type": "markdown",
   "id": "a36e39ba",
   "metadata": {},
   "source": [
    "### Convert selected laz files to DEM"
   ]
  },
  {
   "cell_type": "code",
   "execution_count": null,
   "id": "de53a58b",
   "metadata": {},
   "outputs": [],
   "source": [
    "!python /workspace/code/laz_to_dem.py /workspace/data/hunting_pits/laz/ /workspace/data/hunting_pits/dem_tiles/"
   ]
  },
  {
   "cell_type": "markdown",
   "id": "86d890b4",
   "metadata": {},
   "source": [
    "### Extract topographical indices"
   ]
  },
  {
   "cell_type": "code",
   "execution_count": null,
   "id": "1a085081",
   "metadata": {},
   "outputs": [],
   "source": [
    "!python /workspace/code/Extract_topographcical_indices.py /workspace/temp/ /workspace/data/hunting_pits/laz/ /workspace/data/hunting_pits/topographical_indices_normalized/hillshade/ /workspace/data/hunting_pits/topographical_indices_normalized/slope/ /workspace/data/hunting_pits/topographical_indices_normalized/hpmf/ /workspace/data/hunting_pits/topographical_indices_normalized/stdon/"
   ]
  },
  {
   "cell_type": "markdown",
   "id": "e6207279",
   "metadata": {},
   "source": [
    "## Labels"
   ]
  },
  {
   "cell_type": "markdown",
   "id": "a619f3d2",
   "metadata": {},
   "source": [
    "**Hunting pits integer masks**"
   ]
  },
  {
   "cell_type": "raw",
   "id": "b872d4f7",
   "metadata": {},
   "source": [
    "The objects were converted to an integer segmentation mask where pixels of each object have a uniqe ID. These segmentation masks were then converted to bounding boxes."
   ]
  },
  {
   "cell_type": "code",
   "execution_count": null,
   "id": "4e9c0966",
   "metadata": {},
   "outputs": [],
   "source": [
    "!python /workspace/code/create_labels.py /workspace/data/hunting_pits/dem_tiles/ /workspace/data/hunting_pits/hunting_pits.shp /workspace/data/hunting_pits/object_detection_data/label_tiles/"
   ]
  },
  {
   "cell_type": "markdown",
   "id": "0dbb3922",
   "metadata": {},
   "source": [
    "All data were split into image chips with the size 256x256. Note that the directories needs to be empty before running the split script. I found it esiest to recreate the directories to avoid errors."
   ]
  },
  {
   "cell_type": "code",
   "execution_count": 132,
   "id": "3b82b006",
   "metadata": {},
   "outputs": [
    {
     "name": "stdout",
     "output_type": "stream",
     "text": [
      "Input Image File Shape (D, H, W):(1, 5000, 5000)\n",
      "crop_size=256, stride=256\n",
      "Padding Image File Shape (D, H, W):(1, 5120, 5120)\n",
      "There are 0 files in the /workspace/data/hunting_pits/object_detection_data/split_data/labels/\n",
      "New image name will start with 1\n",
      "Generating: 100%|\u001b[32m███████████████████████████\u001b[0m| 400/400 [00:01<00:00, 316.22img/s]\u001b[0m\n",
      "400 tiles sample of /workspace/data/hunting_pits/object_detection_data/label_tiles/18D022_67450_5775_25.tif are added at /workspace/data/hunting_pits/object_detection_data/split_data/labels/\n",
      "Input Image File Shape (D, H, W):(1, 5000, 5000)\n",
      "crop_size=256, stride=256\n",
      "Padding Image File Shape (D, H, W):(1, 5120, 5120)\n",
      "There are 400 files in the /workspace/data/hunting_pits/object_detection_data/split_data/labels/\n",
      "New image name will start with 401\n",
      "Generating: 100%|\u001b[32m███████████████████████████\u001b[0m| 400/400 [00:01<00:00, 321.47img/s]\u001b[0m\n",
      "400 tiles sample of /workspace/data/hunting_pits/object_detection_data/label_tiles/18D022_67475_5750_25.tif are added at /workspace/data/hunting_pits/object_detection_data/split_data/labels/\n",
      "Input Image File Shape (D, H, W):(1, 5000, 5000)\n",
      "crop_size=256, stride=256\n",
      "Padding Image File Shape (D, H, W):(1, 5120, 5120)\n",
      "There are 800 files in the /workspace/data/hunting_pits/object_detection_data/split_data/labels/\n",
      "New image name will start with 801\n",
      "Generating: 100%|\u001b[32m███████████████████████████\u001b[0m| 400/400 [00:01<00:00, 333.40img/s]\u001b[0m\n",
      "400 tiles sample of /workspace/data/hunting_pits/object_detection_data/label_tiles/18D022_67475_5775_25.tif are added at /workspace/data/hunting_pits/object_detection_data/split_data/labels/\n",
      "Input Image File Shape (D, H, W):(1, 5000, 5000)\n",
      "crop_size=256, stride=256\n",
      "Padding Image File Shape (D, H, W):(1, 5120, 5120)\n",
      "There are 1200 files in the /workspace/data/hunting_pits/object_detection_data/split_data/labels/\n",
      "New image name will start with 1201\n",
      "Generating: 100%|\u001b[32m███████████████████████████\u001b[0m| 400/400 [00:01<00:00, 320.44img/s]\u001b[0m\n",
      "400 tiles sample of /workspace/data/hunting_pits/object_detection_data/label_tiles/18D029_67500_5750_25.tif are added at /workspace/data/hunting_pits/object_detection_data/split_data/labels/\n",
      "Input Image File Shape (D, H, W):(1, 5000, 5000)\n",
      "crop_size=256, stride=256\n",
      "Padding Image File Shape (D, H, W):(1, 5120, 5120)\n",
      "There are 1600 files in the /workspace/data/hunting_pits/object_detection_data/split_data/labels/\n",
      "New image name will start with 1601\n",
      "Generating: 100%|\u001b[32m███████████████████████████\u001b[0m| 400/400 [00:01<00:00, 320.41img/s]\u001b[0m\n",
      "400 tiles sample of /workspace/data/hunting_pits/object_detection_data/label_tiles/18D029_67525_5700_25.tif are added at /workspace/data/hunting_pits/object_detection_data/split_data/labels/\n",
      "Input Image File Shape (D, H, W):(1, 5000, 5000)\n",
      "crop_size=256, stride=256\n",
      "Padding Image File Shape (D, H, W):(1, 5120, 5120)\n",
      "There are 2000 files in the /workspace/data/hunting_pits/object_detection_data/split_data/labels/\n",
      "New image name will start with 2001\n",
      "Generating: 100%|\u001b[32m███████████████████████████\u001b[0m| 400/400 [00:01<00:00, 342.61img/s]\u001b[0m\n",
      "400 tiles sample of /workspace/data/hunting_pits/object_detection_data/label_tiles/18D029_67550_5675_25.tif are added at /workspace/data/hunting_pits/object_detection_data/split_data/labels/\n",
      "Input Image File Shape (D, H, W):(1, 5000, 5000)\n",
      "crop_size=256, stride=256\n",
      "Padding Image File Shape (D, H, W):(1, 5120, 5120)\n",
      "There are 2400 files in the /workspace/data/hunting_pits/object_detection_data/split_data/labels/\n",
      "New image name will start with 2401\n",
      "Generating: 100%|\u001b[32m███████████████████████████\u001b[0m| 400/400 [00:01<00:00, 330.91img/s]\u001b[0m\n",
      "400 tiles sample of /workspace/data/hunting_pits/object_detection_data/label_tiles/18D029_67600_5750_25.tif are added at /workspace/data/hunting_pits/object_detection_data/split_data/labels/\n",
      "Input Image File Shape (D, H, W):(1, 5000, 5000)\n",
      "crop_size=256, stride=256\n",
      "Padding Image File Shape (D, H, W):(1, 5120, 5120)\n",
      "There are 2800 files in the /workspace/data/hunting_pits/object_detection_data/split_data/labels/\n",
      "New image name will start with 2801\n",
      "Generating: 100%|\u001b[32m███████████████████████████\u001b[0m| 400/400 [00:01<00:00, 325.59img/s]\u001b[0m\n",
      "400 tiles sample of /workspace/data/hunting_pits/object_detection_data/label_tiles/18D029_67625_5750_25.tif are added at /workspace/data/hunting_pits/object_detection_data/split_data/labels/\n",
      "Input Image File Shape (D, H, W):(1, 5000, 5000)\n",
      "crop_size=256, stride=256\n",
      "Padding Image File Shape (D, H, W):(1, 5120, 5120)\n",
      "There are 3200 files in the /workspace/data/hunting_pits/object_detection_data/split_data/labels/\n",
      "New image name will start with 3201\n",
      "Generating: 100%|\u001b[32m███████████████████████████\u001b[0m| 400/400 [00:01<00:00, 326.60img/s]\u001b[0m\n",
      "400 tiles sample of /workspace/data/hunting_pits/object_detection_data/label_tiles/19F047_71000_7025_25.tif are added at /workspace/data/hunting_pits/object_detection_data/split_data/labels/\n",
      "Input Image File Shape (D, H, W):(1, 5000, 5000)\n",
      "crop_size=256, stride=256\n",
      "Padding Image File Shape (D, H, W):(1, 5120, 5120)\n",
      "There are 3600 files in the /workspace/data/hunting_pits/object_detection_data/split_data/labels/\n",
      "New image name will start with 3601\n",
      "Generating: 100%|\u001b[32m███████████████████████████\u001b[0m| 400/400 [00:01<00:00, 314.84img/s]\u001b[0m\n",
      "400 tiles sample of /workspace/data/hunting_pits/object_detection_data/label_tiles/19F047_71000_7100_25.tif are added at /workspace/data/hunting_pits/object_detection_data/split_data/labels/\n",
      "Input Image File Shape (D, H, W):(1, 5000, 5000)\n",
      "crop_size=256, stride=256\n",
      "Padding Image File Shape (D, H, W):(1, 5120, 5120)\n",
      "There are 4000 files in the /workspace/data/hunting_pits/object_detection_data/split_data/labels/\n",
      "New image name will start with 4001\n",
      "Generating: 100%|\u001b[32m███████████████████████████\u001b[0m| 400/400 [00:01<00:00, 316.89img/s]\u001b[0m\n",
      "400 tiles sample of /workspace/data/hunting_pits/object_detection_data/label_tiles/19F047_71025_7000_25.tif are added at /workspace/data/hunting_pits/object_detection_data/split_data/labels/\n",
      "Input Image File Shape (D, H, W):(1, 5000, 5000)\n",
      "crop_size=256, stride=256\n",
      "Padding Image File Shape (D, H, W):(1, 5120, 5120)\n",
      "There are 4400 files in the /workspace/data/hunting_pits/object_detection_data/split_data/labels/\n",
      "New image name will start with 4401\n",
      "Generating: 100%|\u001b[32m███████████████████████████\u001b[0m| 400/400 [00:01<00:00, 319.77img/s]\u001b[0m\n",
      "400 tiles sample of /workspace/data/hunting_pits/object_detection_data/label_tiles/19F047_71025_7025_25.tif are added at /workspace/data/hunting_pits/object_detection_data/split_data/labels/\n",
      "Input Image File Shape (D, H, W):(1, 5000, 5000)\n",
      "crop_size=256, stride=256\n",
      "Padding Image File Shape (D, H, W):(1, 5120, 5120)\n",
      "There are 4800 files in the /workspace/data/hunting_pits/object_detection_data/split_data/labels/\n",
      "New image name will start with 4801\n",
      "Generating: 100%|\u001b[32m███████████████████████████\u001b[0m| 400/400 [00:01<00:00, 325.60img/s]\u001b[0m\n",
      "400 tiles sample of /workspace/data/hunting_pits/object_detection_data/label_tiles/19F047_71025_7075_25.tif are added at /workspace/data/hunting_pits/object_detection_data/split_data/labels/\n",
      "Input Image File Shape (D, H, W):(1, 5000, 5000)\n",
      "crop_size=256, stride=256\n",
      "Padding Image File Shape (D, H, W):(1, 5120, 5120)\n",
      "There are 5200 files in the /workspace/data/hunting_pits/object_detection_data/split_data/labels/\n",
      "New image name will start with 5201\n",
      "Generating: 100%|\u001b[32m███████████████████████████\u001b[0m| 400/400 [00:01<00:00, 336.27img/s]\u001b[0m\n",
      "400 tiles sample of /workspace/data/hunting_pits/object_detection_data/label_tiles/19F047_71025_7100_25.tif are added at /workspace/data/hunting_pits/object_detection_data/split_data/labels/\n",
      "Input Image File Shape (D, H, W):(1, 5000, 5000)\n",
      "crop_size=256, stride=256\n",
      "Padding Image File Shape (D, H, W):(1, 5120, 5120)\n",
      "There are 5600 files in the /workspace/data/hunting_pits/object_detection_data/split_data/labels/\n",
      "New image name will start with 5601\n",
      "Generating: 100%|\u001b[32m███████████████████████████\u001b[0m| 400/400 [00:01<00:00, 336.95img/s]\u001b[0m\n",
      "400 tiles sample of /workspace/data/hunting_pits/object_detection_data/label_tiles/19F047_71025_7225_25.tif are added at /workspace/data/hunting_pits/object_detection_data/split_data/labels/\n",
      "Input Image File Shape (D, H, W):(1, 5000, 5000)\n",
      "crop_size=256, stride=256\n"
     ]
    },
    {
     "name": "stdout",
     "output_type": "stream",
     "text": [
      "Padding Image File Shape (D, H, W):(1, 5120, 5120)\n",
      "There are 6000 files in the /workspace/data/hunting_pits/object_detection_data/split_data/labels/\n",
      "New image name will start with 6001\n",
      "Generating: 100%|\u001b[32m███████████████████████████\u001b[0m| 400/400 [00:01<00:00, 342.19img/s]\u001b[0m\n",
      "400 tiles sample of /workspace/data/hunting_pits/object_detection_data/label_tiles/19F047_71050_7225_25.tif are added at /workspace/data/hunting_pits/object_detection_data/split_data/labels/\n",
      "Input Image File Shape (D, H, W):(1, 5000, 5000)\n",
      "crop_size=256, stride=256\n",
      "Padding Image File Shape (D, H, W):(1, 5120, 5120)\n",
      "There are 6400 files in the /workspace/data/hunting_pits/object_detection_data/split_data/labels/\n",
      "New image name will start with 6401\n",
      "Generating: 100%|\u001b[32m███████████████████████████\u001b[0m| 400/400 [00:01<00:00, 316.94img/s]\u001b[0m\n",
      "400 tiles sample of /workspace/data/hunting_pits/object_detection_data/label_tiles/19F047_71075_7200_25.tif are added at /workspace/data/hunting_pits/object_detection_data/split_data/labels/\n",
      "Input Image File Shape (D, H, W):(1, 5000, 5000)\n",
      "crop_size=256, stride=256\n",
      "Padding Image File Shape (D, H, W):(1, 5120, 5120)\n",
      "There are 6800 files in the /workspace/data/hunting_pits/object_detection_data/split_data/labels/\n",
      "New image name will start with 6801\n",
      "Generating: 100%|\u001b[32m███████████████████████████\u001b[0m| 400/400 [00:01<00:00, 333.32img/s]\u001b[0m\n",
      "400 tiles sample of /workspace/data/hunting_pits/object_detection_data/label_tiles/19F047_71075_7225_25.tif are added at /workspace/data/hunting_pits/object_detection_data/split_data/labels/\n",
      "Input Image File Shape (D, H, W):(1, 5000, 5000)\n",
      "crop_size=256, stride=256\n",
      "Padding Image File Shape (D, H, W):(1, 5120, 5120)\n",
      "There are 7200 files in the /workspace/data/hunting_pits/object_detection_data/split_data/labels/\n",
      "New image name will start with 7201\n",
      "Generating: 100%|\u001b[32m███████████████████████████\u001b[0m| 400/400 [00:01<00:00, 327.07img/s]\u001b[0m\n",
      "400 tiles sample of /workspace/data/hunting_pits/object_detection_data/label_tiles/19F047_71150_7225_25.tif are added at /workspace/data/hunting_pits/object_detection_data/split_data/labels/\n",
      "Input Image File Shape (D, H, W):(1, 5000, 5000)\n",
      "crop_size=256, stride=256\n",
      "Padding Image File Shape (D, H, W):(1, 5120, 5120)\n",
      "There are 7600 files in the /workspace/data/hunting_pits/object_detection_data/split_data/labels/\n",
      "New image name will start with 7601\n",
      "Generating: 100%|\u001b[32m███████████████████████████\u001b[0m| 400/400 [00:01<00:00, 316.18img/s]\u001b[0m\n",
      "400 tiles sample of /workspace/data/hunting_pits/object_detection_data/label_tiles/19F047_71250_7125_25.tif are added at /workspace/data/hunting_pits/object_detection_data/split_data/labels/\n",
      "Input Image File Shape (D, H, W):(1, 5000, 5000)\n",
      "crop_size=256, stride=256\n",
      "Padding Image File Shape (D, H, W):(1, 5120, 5120)\n",
      "There are 8000 files in the /workspace/data/hunting_pits/object_detection_data/split_data/labels/\n",
      "New image name will start with 8001\n",
      "Generating: 100%|\u001b[32m███████████████████████████\u001b[0m| 400/400 [00:01<00:00, 311.57img/s]\u001b[0m\n",
      "400 tiles sample of /workspace/data/hunting_pits/object_detection_data/label_tiles/19F047_71275_7125_25.tif are added at /workspace/data/hunting_pits/object_detection_data/split_data/labels/\n",
      "Input Image File Shape (D, H, W):(1, 5000, 5000)\n",
      "crop_size=256, stride=256\n",
      "Padding Image File Shape (D, H, W):(1, 5120, 5120)\n",
      "There are 8400 files in the /workspace/data/hunting_pits/object_detection_data/split_data/labels/\n",
      "New image name will start with 8401\n",
      "Generating: 100%|\u001b[32m███████████████████████████\u001b[0m| 400/400 [00:01<00:00, 313.61img/s]\u001b[0m\n",
      "400 tiles sample of /workspace/data/hunting_pits/object_detection_data/label_tiles/19F047_71275_7150_25.tif are added at /workspace/data/hunting_pits/object_detection_data/split_data/labels/\n",
      "Input Image File Shape (D, H, W):(1, 5000, 5000)\n",
      "crop_size=256, stride=256\n",
      "Padding Image File Shape (D, H, W):(1, 5120, 5120)\n",
      "There are 8800 files in the /workspace/data/hunting_pits/object_detection_data/split_data/labels/\n",
      "New image name will start with 8801\n",
      "Generating: 100%|\u001b[32m███████████████████████████\u001b[0m| 400/400 [00:01<00:00, 323.00img/s]\u001b[0m\n",
      "400 tiles sample of /workspace/data/hunting_pits/object_detection_data/label_tiles/19F047_71425_7000_25.tif are added at /workspace/data/hunting_pits/object_detection_data/split_data/labels/\n",
      "Input Image File Shape (D, H, W):(1, 5000, 5000)\n",
      "crop_size=256, stride=256\n",
      "Padding Image File Shape (D, H, W):(1, 5120, 5120)\n",
      "There are 9200 files in the /workspace/data/hunting_pits/object_detection_data/split_data/labels/\n",
      "New image name will start with 9201\n",
      "Generating: 100%|\u001b[32m███████████████████████████\u001b[0m| 400/400 [00:01<00:00, 329.28img/s]\u001b[0m\n",
      "400 tiles sample of /workspace/data/hunting_pits/object_detection_data/label_tiles/19F048_71025_7375_25.tif are added at /workspace/data/hunting_pits/object_detection_data/split_data/labels/\n",
      "Input Image File Shape (D, H, W):(1, 5000, 5000)\n",
      "crop_size=256, stride=256\n",
      "Padding Image File Shape (D, H, W):(1, 5120, 5120)\n",
      "There are 9600 files in the /workspace/data/hunting_pits/object_detection_data/split_data/labels/\n",
      "New image name will start with 9601\n",
      "Generating: 100%|\u001b[32m███████████████████████████\u001b[0m| 400/400 [00:01<00:00, 334.75img/s]\u001b[0m\n",
      "400 tiles sample of /workspace/data/hunting_pits/object_detection_data/label_tiles/19F048_71050_7475_25.tif are added at /workspace/data/hunting_pits/object_detection_data/split_data/labels/\n",
      "Input Image File Shape (D, H, W):(1, 5000, 5000)\n",
      "crop_size=256, stride=256\n",
      "Padding Image File Shape (D, H, W):(1, 5120, 5120)\n",
      "There are 10000 files in the /workspace/data/hunting_pits/object_detection_data/split_data/labels/\n",
      "New image name will start with 10001\n",
      "Generating: 100%|\u001b[32m███████████████████████████\u001b[0m| 400/400 [00:01<00:00, 335.31img/s]\u001b[0m\n",
      "400 tiles sample of /workspace/data/hunting_pits/object_detection_data/label_tiles/19F048_71400_7425_25.tif are added at /workspace/data/hunting_pits/object_detection_data/split_data/labels/\n",
      "Input Image File Shape (D, H, W):(1, 5000, 5000)\n",
      "crop_size=256, stride=256\n",
      "Padding Image File Shape (D, H, W):(1, 5120, 5120)\n",
      "There are 10400 files in the /workspace/data/hunting_pits/object_detection_data/split_data/labels/\n",
      "New image name will start with 10401\n",
      "Generating: 100%|\u001b[32m███████████████████████████\u001b[0m| 400/400 [00:01<00:00, 341.94img/s]\u001b[0m\n",
      "400 tiles sample of /workspace/data/hunting_pits/object_detection_data/label_tiles/19F048_71425_7425_25.tif are added at /workspace/data/hunting_pits/object_detection_data/split_data/labels/\n",
      "Input Image File Shape (D, H, W):(1, 5000, 5000)\n",
      "crop_size=256, stride=256\n",
      "Padding Image File Shape (D, H, W):(1, 5120, 5120)\n",
      "There are 10800 files in the /workspace/data/hunting_pits/object_detection_data/split_data/labels/\n",
      "New image name will start with 10801\n",
      "Generating: 100%|\u001b[32m███████████████████████████\u001b[0m| 400/400 [00:01<00:00, 320.10img/s]\u001b[0m\n",
      "400 tiles sample of /workspace/data/hunting_pits/object_detection_data/label_tiles/19F048_71425_7450_25.tif are added at /workspace/data/hunting_pits/object_detection_data/split_data/labels/\n",
      "Input Image File Shape (D, H, W):(1, 5000, 5000)\n",
      "crop_size=256, stride=256\n",
      "Padding Image File Shape (D, H, W):(1, 5120, 5120)\n",
      "There are 11200 files in the /workspace/data/hunting_pits/object_detection_data/split_data/labels/\n",
      "New image name will start with 11201\n",
      "Generating: 100%|\u001b[32m███████████████████████████\u001b[0m| 400/400 [00:01<00:00, 335.44img/s]\u001b[0m\n",
      "400 tiles sample of /workspace/data/hunting_pits/object_detection_data/label_tiles/19F048_71475_7425_25.tif are added at /workspace/data/hunting_pits/object_detection_data/split_data/labels/\n",
      "Input Image File Shape (D, H, W):(1, 5000, 5000)\n",
      "crop_size=256, stride=256\n",
      "Padding Image File Shape (D, H, W):(1, 5120, 5120)\n",
      "There are 11600 files in the /workspace/data/hunting_pits/object_detection_data/split_data/labels/\n",
      "New image name will start with 11601\n",
      "Generating: 100%|\u001b[32m███████████████████████████\u001b[0m| 400/400 [00:01<00:00, 332.46img/s]\u001b[0m\n",
      "400 tiles sample of /workspace/data/hunting_pits/object_detection_data/label_tiles/19F048_71475_7450_25.tif are added at /workspace/data/hunting_pits/object_detection_data/split_data/labels/\n",
      "Input Image File Shape (D, H, W):(1, 5000, 5000)\n",
      "crop_size=256, stride=256\n",
      "Padding Image File Shape (D, H, W):(1, 5120, 5120)\n"
     ]
    },
    {
     "name": "stdout",
     "output_type": "stream",
     "text": [
      "There are 12000 files in the /workspace/data/hunting_pits/object_detection_data/split_data/labels/\n",
      "New image name will start with 12001\n",
      "Generating: 100%|\u001b[32m███████████████████████████\u001b[0m| 400/400 [00:01<00:00, 333.07img/s]\u001b[0m\n",
      "400 tiles sample of /workspace/data/hunting_pits/object_detection_data/label_tiles/19G013_71500_7025_25.tif are added at /workspace/data/hunting_pits/object_detection_data/split_data/labels/\n",
      "Input Image File Shape (D, H, W):(1, 5000, 5000)\n",
      "crop_size=256, stride=256\n",
      "Padding Image File Shape (D, H, W):(1, 5120, 5120)\n",
      "There are 12400 files in the /workspace/data/hunting_pits/object_detection_data/split_data/labels/\n",
      "New image name will start with 12401\n",
      "Generating: 100%|\u001b[32m███████████████████████████\u001b[0m| 400/400 [00:01<00:00, 307.28img/s]\u001b[0m\n",
      "400 tiles sample of /workspace/data/hunting_pits/object_detection_data/label_tiles/19G013_71525_7000_25.tif are added at /workspace/data/hunting_pits/object_detection_data/split_data/labels/\n",
      "Input Image File Shape (D, H, W):(1, 5000, 5000)\n",
      "crop_size=256, stride=256\n",
      "Padding Image File Shape (D, H, W):(1, 5120, 5120)\n",
      "There are 12800 files in the /workspace/data/hunting_pits/object_detection_data/split_data/labels/\n",
      "New image name will start with 12801\n",
      "Generating: 100%|\u001b[32m███████████████████████████\u001b[0m| 400/400 [00:01<00:00, 335.84img/s]\u001b[0m\n",
      "400 tiles sample of /workspace/data/hunting_pits/object_detection_data/label_tiles/19G013_71525_7025_25.tif are added at /workspace/data/hunting_pits/object_detection_data/split_data/labels/\n",
      "Input Image File Shape (D, H, W):(1, 5000, 5000)\n",
      "crop_size=256, stride=256\n",
      "Padding Image File Shape (D, H, W):(1, 5120, 5120)\n",
      "There are 13200 files in the /workspace/data/hunting_pits/object_detection_data/split_data/labels/\n",
      "New image name will start with 13201\n",
      "Generating: 100%|\u001b[32m███████████████████████████\u001b[0m| 400/400 [00:01<00:00, 322.36img/s]\u001b[0m\n",
      "400 tiles sample of /workspace/data/hunting_pits/object_detection_data/label_tiles/19G013_71550_7000_25.tif are added at /workspace/data/hunting_pits/object_detection_data/split_data/labels/\n",
      "Input Image File Shape (D, H, W):(1, 5000, 5000)\n",
      "crop_size=256, stride=256\n",
      "Padding Image File Shape (D, H, W):(1, 5120, 5120)\n",
      "There are 13600 files in the /workspace/data/hunting_pits/object_detection_data/split_data/labels/\n",
      "New image name will start with 13601\n",
      "Generating: 100%|\u001b[32m███████████████████████████\u001b[0m| 400/400 [00:01<00:00, 318.42img/s]\u001b[0m\n",
      "400 tiles sample of /workspace/data/hunting_pits/object_detection_data/label_tiles/19G013_71575_7000_25.tif are added at /workspace/data/hunting_pits/object_detection_data/split_data/labels/\n",
      "Input Image File Shape (D, H, W):(1, 5000, 5000)\n",
      "crop_size=256, stride=256\n",
      "Padding Image File Shape (D, H, W):(1, 5120, 5120)\n",
      "There are 14000 files in the /workspace/data/hunting_pits/object_detection_data/split_data/labels/\n",
      "New image name will start with 14001\n",
      "Generating: 100%|\u001b[32m███████████████████████████\u001b[0m| 400/400 [00:01<00:00, 311.07img/s]\u001b[0m\n",
      "400 tiles sample of /workspace/data/hunting_pits/object_detection_data/label_tiles/19G013_71575_7100_25.tif are added at /workspace/data/hunting_pits/object_detection_data/split_data/labels/\n",
      "Input Image File Shape (D, H, W):(1, 5000, 5000)\n",
      "crop_size=256, stride=256\n",
      "Padding Image File Shape (D, H, W):(1, 5120, 5120)\n",
      "There are 14400 files in the /workspace/data/hunting_pits/object_detection_data/split_data/labels/\n",
      "New image name will start with 14401\n",
      "Generating: 100%|\u001b[32m███████████████████████████\u001b[0m| 400/400 [00:01<00:00, 318.89img/s]\u001b[0m\n",
      "400 tiles sample of /workspace/data/hunting_pits/object_detection_data/label_tiles/19G013_71575_7125_25.tif are added at /workspace/data/hunting_pits/object_detection_data/split_data/labels/\n",
      "Input Image File Shape (D, H, W):(1, 5000, 5000)\n",
      "crop_size=256, stride=256\n",
      "Padding Image File Shape (D, H, W):(1, 5120, 5120)\n",
      "There are 14800 files in the /workspace/data/hunting_pits/object_detection_data/split_data/labels/\n",
      "New image name will start with 14801\n",
      "Generating: 100%|\u001b[32m███████████████████████████\u001b[0m| 400/400 [00:01<00:00, 328.89img/s]\u001b[0m\n",
      "400 tiles sample of /workspace/data/hunting_pits/object_detection_data/label_tiles/19G013_71600_7000_25.tif are added at /workspace/data/hunting_pits/object_detection_data/split_data/labels/\n",
      "Input Image File Shape (D, H, W):(1, 5000, 5000)\n",
      "crop_size=256, stride=256\n",
      "Padding Image File Shape (D, H, W):(1, 5120, 5120)\n",
      "There are 15200 files in the /workspace/data/hunting_pits/object_detection_data/split_data/labels/\n",
      "New image name will start with 15201\n",
      "Generating: 100%|\u001b[32m███████████████████████████\u001b[0m| 400/400 [00:01<00:00, 333.63img/s]\u001b[0m\n",
      "400 tiles sample of /workspace/data/hunting_pits/object_detection_data/label_tiles/19G013_71600_7025_25.tif are added at /workspace/data/hunting_pits/object_detection_data/split_data/labels/\n",
      "Input Image File Shape (D, H, W):(1, 5000, 5000)\n",
      "crop_size=256, stride=256\n",
      "Padding Image File Shape (D, H, W):(1, 5120, 5120)\n",
      "There are 15600 files in the /workspace/data/hunting_pits/object_detection_data/split_data/labels/\n",
      "New image name will start with 15601\n",
      "Generating: 100%|\u001b[32m███████████████████████████\u001b[0m| 400/400 [00:01<00:00, 334.39img/s]\u001b[0m\n",
      "400 tiles sample of /workspace/data/hunting_pits/object_detection_data/label_tiles/19G013_71600_7050_25.tif are added at /workspace/data/hunting_pits/object_detection_data/split_data/labels/\n",
      "Input Image File Shape (D, H, W):(1, 5000, 5000)\n",
      "crop_size=256, stride=256\n",
      "Padding Image File Shape (D, H, W):(1, 5120, 5120)\n",
      "There are 16000 files in the /workspace/data/hunting_pits/object_detection_data/split_data/labels/\n",
      "New image name will start with 16001\n",
      "Generating: 100%|\u001b[32m███████████████████████████\u001b[0m| 400/400 [00:01<00:00, 330.55img/s]\u001b[0m\n",
      "400 tiles sample of /workspace/data/hunting_pits/object_detection_data/label_tiles/19G013_71600_7075_25.tif are added at /workspace/data/hunting_pits/object_detection_data/split_data/labels/\n",
      "Input Image File Shape (D, H, W):(1, 5000, 5000)\n",
      "crop_size=256, stride=256\n",
      "Padding Image File Shape (D, H, W):(1, 5120, 5120)\n",
      "There are 16400 files in the /workspace/data/hunting_pits/object_detection_data/split_data/labels/\n",
      "New image name will start with 16401\n",
      "Generating: 100%|\u001b[32m███████████████████████████\u001b[0m| 400/400 [00:01<00:00, 327.36img/s]\u001b[0m\n",
      "400 tiles sample of /workspace/data/hunting_pits/object_detection_data/label_tiles/19G013_71625_7125_25.tif are added at /workspace/data/hunting_pits/object_detection_data/split_data/labels/\n",
      "Input Image File Shape (D, H, W):(1, 5000, 5000)\n",
      "crop_size=256, stride=256\n",
      "Padding Image File Shape (D, H, W):(1, 5120, 5120)\n",
      "There are 16800 files in the /workspace/data/hunting_pits/object_detection_data/split_data/labels/\n",
      "New image name will start with 16801\n",
      "Generating: 100%|\u001b[32m███████████████████████████\u001b[0m| 400/400 [00:01<00:00, 327.50img/s]\u001b[0m\n",
      "400 tiles sample of /workspace/data/hunting_pits/object_detection_data/label_tiles/19G013_71650_7075_25.tif are added at /workspace/data/hunting_pits/object_detection_data/split_data/labels/\n",
      "Input Image File Shape (D, H, W):(1, 5000, 5000)\n",
      "crop_size=256, stride=256\n",
      "Padding Image File Shape (D, H, W):(1, 5120, 5120)\n",
      "There are 17200 files in the /workspace/data/hunting_pits/object_detection_data/split_data/labels/\n",
      "New image name will start with 17201\n",
      "Generating: 100%|\u001b[32m███████████████████████████\u001b[0m| 400/400 [00:01<00:00, 332.00img/s]\u001b[0m\n",
      "400 tiles sample of /workspace/data/hunting_pits/object_detection_data/label_tiles/19G013_71650_7100_25.tif are added at /workspace/data/hunting_pits/object_detection_data/split_data/labels/\n",
      "Input Image File Shape (D, H, W):(1, 5000, 5000)\n",
      "crop_size=256, stride=256\n",
      "Padding Image File Shape (D, H, W):(1, 5120, 5120)\n",
      "There are 17600 files in the /workspace/data/hunting_pits/object_detection_data/split_data/labels/\n",
      "New image name will start with 17601\n",
      "Generating: 100%|\u001b[32m███████████████████████████\u001b[0m| 400/400 [00:01<00:00, 341.94img/s]\u001b[0m\n",
      "400 tiles sample of /workspace/data/hunting_pits/object_detection_data/label_tiles/19G013_71650_7125_25.tif are added at /workspace/data/hunting_pits/object_detection_data/split_data/labels/\n",
      "Input Image File Shape (D, H, W):(1, 5000, 5000)\n",
      "crop_size=256, stride=256\n",
      "Padding Image File Shape (D, H, W):(1, 5120, 5120)\n"
     ]
    },
    {
     "name": "stdout",
     "output_type": "stream",
     "text": [
      "There are 18000 files in the /workspace/data/hunting_pits/object_detection_data/split_data/labels/\n",
      "New image name will start with 18001\n",
      "Generating: 100%|\u001b[32m███████████████████████████\u001b[0m| 400/400 [00:01<00:00, 345.03img/s]\u001b[0m\n",
      "400 tiles sample of /workspace/data/hunting_pits/object_detection_data/label_tiles/19G013_71675_7025_25.tif are added at /workspace/data/hunting_pits/object_detection_data/split_data/labels/\n",
      "Input Image File Shape (D, H, W):(1, 5000, 5000)\n",
      "crop_size=256, stride=256\n",
      "Padding Image File Shape (D, H, W):(1, 5120, 5120)\n",
      "There are 18400 files in the /workspace/data/hunting_pits/object_detection_data/split_data/labels/\n",
      "New image name will start with 18401\n",
      "Generating: 100%|\u001b[32m███████████████████████████\u001b[0m| 400/400 [00:01<00:00, 327.47img/s]\u001b[0m\n",
      "400 tiles sample of /workspace/data/hunting_pits/object_detection_data/label_tiles/19G013_71675_7050_25.tif are added at /workspace/data/hunting_pits/object_detection_data/split_data/labels/\n",
      "Input Image File Shape (D, H, W):(1, 5000, 5000)\n",
      "crop_size=256, stride=256\n",
      "Padding Image File Shape (D, H, W):(1, 5120, 5120)\n",
      "There are 18800 files in the /workspace/data/hunting_pits/object_detection_data/split_data/labels/\n",
      "New image name will start with 18801\n",
      "Generating: 100%|\u001b[32m███████████████████████████\u001b[0m| 400/400 [00:01<00:00, 340.94img/s]\u001b[0m\n",
      "400 tiles sample of /workspace/data/hunting_pits/object_detection_data/label_tiles/19G013_71725_7175_25.tif are added at /workspace/data/hunting_pits/object_detection_data/split_data/labels/\n",
      "Input Image File Shape (D, H, W):(1, 5000, 5000)\n",
      "crop_size=256, stride=256\n",
      "Padding Image File Shape (D, H, W):(1, 5120, 5120)\n",
      "There are 19200 files in the /workspace/data/hunting_pits/object_detection_data/split_data/labels/\n",
      "New image name will start with 19201\n",
      "Generating: 100%|\u001b[32m███████████████████████████\u001b[0m| 400/400 [00:01<00:00, 334.52img/s]\u001b[0m\n",
      "400 tiles sample of /workspace/data/hunting_pits/object_detection_data/label_tiles/19G013_71725_7200_25.tif are added at /workspace/data/hunting_pits/object_detection_data/split_data/labels/\n",
      "Input Image File Shape (D, H, W):(1, 5000, 5000)\n",
      "crop_size=256, stride=256\n",
      "Padding Image File Shape (D, H, W):(1, 5120, 5120)\n",
      "There are 19600 files in the /workspace/data/hunting_pits/object_detection_data/split_data/labels/\n",
      "New image name will start with 19601\n",
      "Generating: 100%|\u001b[32m███████████████████████████\u001b[0m| 400/400 [00:01<00:00, 342.52img/s]\u001b[0m\n",
      "400 tiles sample of /workspace/data/hunting_pits/object_detection_data/label_tiles/19G013_71725_7225_25.tif are added at /workspace/data/hunting_pits/object_detection_data/split_data/labels/\n",
      "Input Image File Shape (D, H, W):(1, 5000, 5000)\n",
      "crop_size=256, stride=256\n",
      "Padding Image File Shape (D, H, W):(1, 5120, 5120)\n",
      "There are 20000 files in the /workspace/data/hunting_pits/object_detection_data/split_data/labels/\n",
      "New image name will start with 20001\n",
      "Generating: 100%|\u001b[32m███████████████████████████\u001b[0m| 400/400 [00:01<00:00, 326.80img/s]\u001b[0m\n",
      "400 tiles sample of /workspace/data/hunting_pits/object_detection_data/label_tiles/19G013_71800_7050_25.tif are added at /workspace/data/hunting_pits/object_detection_data/split_data/labels/\n",
      "Input Image File Shape (D, H, W):(1, 5000, 5000)\n",
      "crop_size=256, stride=256\n",
      "Padding Image File Shape (D, H, W):(1, 5120, 5120)\n",
      "There are 20400 files in the /workspace/data/hunting_pits/object_detection_data/split_data/labels/\n",
      "New image name will start with 20401\n",
      "Generating: 100%|\u001b[32m███████████████████████████\u001b[0m| 400/400 [00:01<00:00, 317.80img/s]\u001b[0m\n",
      "400 tiles sample of /workspace/data/hunting_pits/object_detection_data/label_tiles/19G013_71800_7100_25.tif are added at /workspace/data/hunting_pits/object_detection_data/split_data/labels/\n",
      "Input Image File Shape (D, H, W):(1, 5000, 5000)\n",
      "crop_size=256, stride=256\n",
      "Padding Image File Shape (D, H, W):(1, 5120, 5120)\n",
      "There are 20800 files in the /workspace/data/hunting_pits/object_detection_data/split_data/labels/\n",
      "New image name will start with 20801\n",
      "Generating: 100%|\u001b[32m███████████████████████████\u001b[0m| 400/400 [00:01<00:00, 328.78img/s]\u001b[0m\n",
      "400 tiles sample of /workspace/data/hunting_pits/object_detection_data/label_tiles/19G013_71800_7125_25.tif are added at /workspace/data/hunting_pits/object_detection_data/split_data/labels/\n",
      "Input Image File Shape (D, H, W):(1, 5000, 5000)\n",
      "crop_size=256, stride=256\n",
      "Padding Image File Shape (D, H, W):(1, 5120, 5120)\n",
      "There are 21200 files in the /workspace/data/hunting_pits/object_detection_data/split_data/labels/\n",
      "New image name will start with 21201\n",
      "Generating: 100%|\u001b[32m███████████████████████████\u001b[0m| 400/400 [00:01<00:00, 324.93img/s]\u001b[0m\n",
      "400 tiles sample of /workspace/data/hunting_pits/object_detection_data/label_tiles/19G013_71825_7100_25.tif are added at /workspace/data/hunting_pits/object_detection_data/split_data/labels/\n",
      "Input Image File Shape (D, H, W):(1, 5000, 5000)\n",
      "crop_size=256, stride=256\n",
      "Padding Image File Shape (D, H, W):(1, 5120, 5120)\n",
      "There are 21600 files in the /workspace/data/hunting_pits/object_detection_data/split_data/labels/\n",
      "New image name will start with 21601\n",
      "Generating: 100%|\u001b[32m███████████████████████████\u001b[0m| 400/400 [00:01<00:00, 334.91img/s]\u001b[0m\n",
      "400 tiles sample of /workspace/data/hunting_pits/object_detection_data/label_tiles/19G013_71850_7100_25.tif are added at /workspace/data/hunting_pits/object_detection_data/split_data/labels/\n",
      "Input Image File Shape (D, H, W):(1, 5000, 5000)\n",
      "crop_size=256, stride=256\n",
      "Padding Image File Shape (D, H, W):(1, 5120, 5120)\n",
      "There are 22000 files in the /workspace/data/hunting_pits/object_detection_data/split_data/labels/\n",
      "New image name will start with 22001\n",
      "Generating: 100%|\u001b[32m███████████████████████████\u001b[0m| 400/400 [00:01<00:00, 318.44img/s]\u001b[0m\n",
      "400 tiles sample of /workspace/data/hunting_pits/object_detection_data/label_tiles/19G013_71875_7150_25.tif are added at /workspace/data/hunting_pits/object_detection_data/split_data/labels/\n",
      "Input Image File Shape (D, H, W):(1, 5000, 5000)\n",
      "crop_size=256, stride=256\n",
      "Padding Image File Shape (D, H, W):(1, 5120, 5120)\n",
      "There are 22400 files in the /workspace/data/hunting_pits/object_detection_data/split_data/labels/\n",
      "New image name will start with 22401\n",
      "Generating: 100%|\u001b[32m███████████████████████████\u001b[0m| 400/400 [00:01<00:00, 330.91img/s]\u001b[0m\n",
      "400 tiles sample of /workspace/data/hunting_pits/object_detection_data/label_tiles/19G013_71975_7025_25.tif are added at /workspace/data/hunting_pits/object_detection_data/split_data/labels/\n",
      "Input Image File Shape (D, H, W):(1, 5000, 5000)\n",
      "crop_size=256, stride=256\n",
      "Padding Image File Shape (D, H, W):(1, 5120, 5120)\n",
      "There are 22800 files in the /workspace/data/hunting_pits/object_detection_data/split_data/labels/\n",
      "New image name will start with 22801\n",
      "Generating: 100%|\u001b[32m███████████████████████████\u001b[0m| 400/400 [00:01<00:00, 343.79img/s]\u001b[0m\n",
      "400 tiles sample of /workspace/data/hunting_pits/object_detection_data/label_tiles/19G014_71500_7425_25.tif are added at /workspace/data/hunting_pits/object_detection_data/split_data/labels/\n",
      "Input Image File Shape (D, H, W):(1, 5000, 5000)\n",
      "crop_size=256, stride=256\n",
      "Padding Image File Shape (D, H, W):(1, 5120, 5120)\n",
      "There are 23200 files in the /workspace/data/hunting_pits/object_detection_data/split_data/labels/\n",
      "New image name will start with 23201\n",
      "Generating: 100%|\u001b[32m███████████████████████████\u001b[0m| 400/400 [00:01<00:00, 342.05img/s]\u001b[0m\n",
      "400 tiles sample of /workspace/data/hunting_pits/object_detection_data/label_tiles/19G014_71700_7250_25.tif are added at /workspace/data/hunting_pits/object_detection_data/split_data/labels/\n",
      "Input Image File Shape (D, H, W):(1, 5000, 5000)\n",
      "crop_size=256, stride=256\n",
      "Padding Image File Shape (D, H, W):(1, 5120, 5120)\n",
      "There are 23600 files in the /workspace/data/hunting_pits/object_detection_data/split_data/labels/\n",
      "New image name will start with 23601\n",
      "Generating: 100%|\u001b[32m███████████████████████████\u001b[0m| 400/400 [00:01<00:00, 328.22img/s]\u001b[0m\n",
      "400 tiles sample of /workspace/data/hunting_pits/object_detection_data/label_tiles/20E018_68775_4775_25.tif are added at /workspace/data/hunting_pits/object_detection_data/split_data/labels/\n",
      "Input Image File Shape (D, H, W):(1, 5000, 5000)\n",
      "crop_size=256, stride=256\n",
      "Padding Image File Shape (D, H, W):(1, 5120, 5120)\n"
     ]
    },
    {
     "name": "stdout",
     "output_type": "stream",
     "text": [
      "There are 24000 files in the /workspace/data/hunting_pits/object_detection_data/split_data/labels/\n",
      "New image name will start with 24001\n",
      "Generating: 100%|\u001b[32m███████████████████████████\u001b[0m| 400/400 [00:01<00:00, 343.57img/s]\u001b[0m\n",
      "400 tiles sample of /workspace/data/hunting_pits/object_detection_data/label_tiles/20E018_68775_4800_25.tif are added at /workspace/data/hunting_pits/object_detection_data/split_data/labels/\n",
      "Input Image File Shape (D, H, W):(1, 5000, 5000)\n",
      "crop_size=256, stride=256\n",
      "Padding Image File Shape (D, H, W):(1, 5120, 5120)\n",
      "There are 24400 files in the /workspace/data/hunting_pits/object_detection_data/split_data/labels/\n",
      "New image name will start with 24401\n",
      "Generating: 100%|\u001b[32m███████████████████████████\u001b[0m| 400/400 [00:01<00:00, 336.45img/s]\u001b[0m\n",
      "400 tiles sample of /workspace/data/hunting_pits/object_detection_data/label_tiles/20E018_68800_4750_25.tif are added at /workspace/data/hunting_pits/object_detection_data/split_data/labels/\n",
      "Input Image File Shape (D, H, W):(1, 5000, 5000)\n",
      "crop_size=256, stride=256\n",
      "Padding Image File Shape (D, H, W):(1, 5120, 5120)\n",
      "There are 24800 files in the /workspace/data/hunting_pits/object_detection_data/split_data/labels/\n",
      "New image name will start with 24801\n",
      "Generating: 100%|\u001b[32m███████████████████████████\u001b[0m| 400/400 [00:01<00:00, 326.25img/s]\u001b[0m\n",
      "400 tiles sample of /workspace/data/hunting_pits/object_detection_data/label_tiles/20E018_68800_4775_25.tif are added at /workspace/data/hunting_pits/object_detection_data/split_data/labels/\n",
      "Input Image File Shape (D, H, W):(1, 5000, 5000)\n",
      "crop_size=256, stride=256\n",
      "Padding Image File Shape (D, H, W):(1, 5120, 5120)\n",
      "There are 25200 files in the /workspace/data/hunting_pits/object_detection_data/split_data/labels/\n",
      "New image name will start with 25201\n",
      "Generating: 100%|\u001b[32m███████████████████████████\u001b[0m| 400/400 [00:01<00:00, 329.98img/s]\u001b[0m\n",
      "400 tiles sample of /workspace/data/hunting_pits/object_detection_data/label_tiles/20E018_68800_4800_25.tif are added at /workspace/data/hunting_pits/object_detection_data/split_data/labels/\n",
      "Input Image File Shape (D, H, W):(1, 5000, 5000)\n",
      "crop_size=256, stride=256\n",
      "Padding Image File Shape (D, H, W):(1, 5120, 5120)\n",
      "There are 25600 files in the /workspace/data/hunting_pits/object_detection_data/split_data/labels/\n",
      "New image name will start with 25601\n",
      "Generating: 100%|\u001b[32m███████████████████████████\u001b[0m| 400/400 [00:01<00:00, 333.58img/s]\u001b[0m\n",
      "400 tiles sample of /workspace/data/hunting_pits/object_detection_data/label_tiles/20E018_68825_4800_25.tif are added at /workspace/data/hunting_pits/object_detection_data/split_data/labels/\n",
      "Input Image File Shape (D, H, W):(1, 5000, 5000)\n",
      "crop_size=256, stride=256\n",
      "Padding Image File Shape (D, H, W):(1, 5120, 5120)\n",
      "There are 26000 files in the /workspace/data/hunting_pits/object_detection_data/split_data/labels/\n",
      "New image name will start with 26001\n",
      "Generating: 100%|\u001b[32m███████████████████████████\u001b[0m| 400/400 [00:01<00:00, 322.34img/s]\u001b[0m\n",
      "400 tiles sample of /workspace/data/hunting_pits/object_detection_data/label_tiles/20E018_68850_4800_25.tif are added at /workspace/data/hunting_pits/object_detection_data/split_data/labels/\n"
     ]
    }
   ],
   "source": [
    "# Start by clearing directories of existing data\n",
    "import os\n",
    "\n",
    "#shutil.rmtree('/workspace/data/split_data/') #this fails alot to it manually\n",
    "os.mkdir('/workspace/data/hunting_pits/object_detection_data/split_data/')\n",
    "os.mkdir('/workspace/data/hunting_pits/object_detection_data/split_data/labels/')\n",
    "os.mkdir('/workspace/data/hunting_pits/object_detection_data/split_data/slope/')\n",
    "os.mkdir('/workspace/data/hunting_pits/object_detection_data/split_data/hillshade/')\n",
    "os.mkdir('/workspace/data/hunting_pits/object_detection_data/split_data/hpmf/')\n",
    "os.mkdir('/workspace/data/hunting_pits/object_detection_data/split_data/stdon/')  \n",
    "\n",
    "# Split data\n",
    "# Hillshade \n",
    "!python /workspace/code/split_training_data.py /workspace/data/hunting_pits/topographical_indices_normalized/hillshade/ /workspace/data/hunting_pits/object_detection_data/split_data/hillshade/ --tile_size 256\n",
    "# Slope\n",
    "!python /workspace/code/split_training_data.py /workspace/data/hunting_pits/topographical_indices_normalized/slope/ /workspace/data/hunting_pits/object_detection_data/split_data/slope/ --tile_size 256\n",
    "# High pass median filter\n",
    "!python /workspace/code/split_training_data.py /workspace/data/hunting_pits/topographical_indices_normalized/hpmf/ /workspace/data/hunting_pits/object_detection_data/split_data/hpmf/ --tile_size 256\n",
    "# High pass median filter\n",
    "!python /workspace/code/split_training_data.py /workspace/data/hunting_pits/topographical_indices_normalized/stdon/ /workspace/data/hunting_pits/object_detection_data/split_data/stdon/ --tile_size 256\n",
    "# Labels\n",
    "!python /workspace/code/split_training_data.py /workspace/data/hunting_pits/object_detection_data/label_tiles/ /workspace/data/hunting_pits/object_detection_data/split_data/labels/ --tile_size 256"
   ]
  },
  {
   "cell_type": "markdown",
   "id": "a790798b",
   "metadata": {},
   "source": [
    "Not all of the splited image chips contained any objects. Chips with less than 1 labeled pixel were removed."
   ]
  },
  {
   "cell_type": "code",
   "execution_count": 133,
   "id": "0324b571",
   "metadata": {},
   "outputs": [],
   "source": [
    "!python /workspace/code/remove_unlabled_chips.py 1 /workspace/data/hunting_pits/object_detection_data/split_data/labels/ /workspace/data/hunting_pits/object_detection_data/split_data/hillshade/ /workspace/data/hunting_pits/object_detection_data/split_data/slope/ /workspace/data/hunting_pits/object_detection_data/split_data/hpmf/ /workspace/data/hunting_pits/object_detection_data/split_data/stdon/"
   ]
  },
  {
   "cell_type": "markdown",
   "id": "536ee034",
   "metadata": {},
   "source": [
    "**Hunting pits bounding boxes**\\\n",
    "The segmentation masks were converted to yolo labels for object detection"
   ]
  },
  {
   "cell_type": "code",
   "execution_count": 21,
   "id": "e89d8d89",
   "metadata": {},
   "outputs": [
    {
     "name": "stdout",
     "output_type": "stream",
     "text": [
      "Collecting pybboxes\n",
      "  Downloading pybboxes-0.0.2-py3-none-any.whl (11 kB)\n",
      "Requirement already satisfied: numpy in /usr/local/lib/python3.8/dist-packages (from pybboxes) (1.22.3)\n",
      "Installing collected packages: pybboxes\n",
      "Successfully installed pybboxes-0.0.2\n",
      "\u001b[33mWARNING: Running pip as the 'root' user can result in broken permissions and conflicting behaviour with the system package manager. It is recommended to use a virtual environment instead: https://pip.pypa.io/warnings/venv\u001b[0m\u001b[33m\n",
      "\u001b[0m\u001b[33mWARNING: You are using pip version 22.0.4; however, version 22.1.2 is available.\n",
      "You should consider upgrading via the '/usr/bin/python -m pip install --upgrade pip' command.\u001b[0m\u001b[33m\n",
      "\u001b[0m"
     ]
    }
   ],
   "source": [
    "!pip install pybboxes"
   ]
  },
  {
   "cell_type": "markdown",
   "id": "8dd95a7f",
   "metadata": {},
   "source": [
    "Convert segmentation masks to YOLO bounding boxes"
   ]
  },
  {
   "cell_type": "code",
   "execution_count": 135,
   "id": "98b86bf4",
   "metadata": {},
   "outputs": [],
   "source": [
    "!python /workspace/code/masks_to_boxes.py /workspace/temp/ /workspace/data/hunting_pits/object_detection_data/split_data/labels/ 256 1 /workspace/data/hunting_pits/object_detection_data/split_data/yolo/ "
   ]
  },
  {
   "cell_type": "markdown",
   "id": "598e1663",
   "metadata": {},
   "source": [
    "# YOLOv5"
   ]
  },
  {
   "cell_type": "markdown",
   "id": "2b397b4a",
   "metadata": {},
   "source": [
    "**partition the dataset into train, validation, and test sets containing 80%, 10%, and 10% of the data, respectively.**"
   ]
  },
  {
   "cell_type": "code",
   "execution_count": 165,
   "id": "27326182",
   "metadata": {},
   "outputs": [],
   "source": [
    "# Read images and annotations\n",
    "from sklearn.model_selection import train_test_split\n",
    "images = [os.path.join('/workspace/data/hunting_pits/object_detection_data/split_data/stdon/', x) for x in os.listdir('/workspace/data/hunting_pits/object_detection_data/split_data/stdon/') if x.endswith('.tif')]\n",
    "annotations = [os.path.join('/workspace/data/hunting_pits/object_detection_data/split_data/yolo/', x) for x in os.listdir('/workspace/data/hunting_pits/object_detection_data/split_data/yolo/') if x[-3:] == \"txt\"]\n",
    "\n",
    "images.sort()\n",
    "annotations.sort()\n",
    "\n",
    "# Split the dataset into train-valid-test splits \n",
    "train_images, val_images, train_annotations, val_annotations = train_test_split(images, annotations, test_size = 0.2, random_state = 1)\n",
    "val_images, test_images, val_annotations, test_annotations = train_test_split(val_images, val_annotations, test_size = 0.5, random_state = 1)\n",
    "!mkdir /workspace/data/hunting_pits/object_detection_data/images/\n",
    "!mkdir /workspace/data/hunting_pits/object_detection_data/annotations/\n",
    "!mkdir /workspace/data/hunting_pits/object_detection_data/images/train /workspace/data/hunting_pits/object_detection_data/images/val /workspace/data/hunting_pits/object_detection_data/images/test /workspace/data/hunting_pits/object_detection_data/annotations/train /workspace/data/hunting_pits/object_detection_data/annotations/val /workspace/data/hunting_pits/object_detection_data/annotations/test"
   ]
  },
  {
   "cell_type": "code",
   "execution_count": null,
   "id": "14181fc5",
   "metadata": {},
   "outputs": [],
   "source": []
  },
  {
   "cell_type": "code",
   "execution_count": 114,
   "id": "9cdd8416",
   "metadata": {},
   "outputs": [
    {
     "name": "stdout",
     "output_type": "stream",
     "text": [
      "Cloning into 'YoloBBoxChecker'...\n",
      "remote: Enumerating objects: 21, done.\u001b[K\n",
      "remote: Total 21 (delta 0), reused 0 (delta 0), pack-reused 21\u001b[K\n",
      "Unpacking objects: 100% (21/21), 5.94 KiB | 74.00 KiB/s, done.\n"
     ]
    }
   ],
   "source": [
    "!git clone https://github.com/ivder/YoloBBoxChecker.git"
   ]
  },
  {
   "cell_type": "code",
   "execution_count": 115,
   "id": "2b422dc9",
   "metadata": {},
   "outputs": [
    {
     "name": "stdout",
     "output_type": "stream",
     "text": [
      " Dockerfile\r\n",
      " Extract_topographcical_indices.py\r\n",
      " LICENSE\r\n",
      "'Laz to DEM.ipynb'\r\n",
      "'Mapping cultural remains with object detection.ipynb'\r\n",
      " README.md\r\n",
      " Select_chips_with_labels.py\r\n",
      " Select_study_areas.py\r\n",
      " Untitled1.ipynb\r\n",
      " Untitled2.ipynb\r\n",
      "'Williams notes.ipynb'\r\n",
      " YoloBBoxChecker\r\n",
      " __pycache__\r\n",
      " create_aoi_poolygon.py\r\n",
      " create_labels.py\r\n",
      " data\r\n",
      " evaluate_model.py\r\n",
      " images\r\n",
      " inference.py\r\n",
      " inspect_distribution.py\r\n",
      " laz_to_dem.py\r\n",
      " lidar_tile_footprint.py\r\n",
      " masks_to_boxes.py\r\n",
      " post_processing.py\r\n",
      " prepare_the_moon.py\r\n",
      " remove_unlabled_chips.py\r\n",
      " select_laz_tiles.py\r\n",
      " select_lidar_tiles.py\r\n",
      " split_training_data.py\r\n",
      " train.py\r\n",
      " utils\r\n"
     ]
    }
   ],
   "source": [
    "!ls"
   ]
  },
  {
   "cell_type": "code",
   "execution_count": 151,
   "id": "17d882b5",
   "metadata": {},
   "outputs": [
    {
     "name": "stdout",
     "output_type": "stream",
     "text": [
      "Input:/workspace/data/hunting_pits/object_detection_data/8bitimage/0022.txt\r\n",
      "Output:/workspace/data/hunting_pits/object_detection_data/results/0022.tif\r\n"
     ]
    }
   ],
   "source": [
    "!python /workspace/code/YoloBBoxChecker/main.py"
   ]
  },
  {
   "cell_type": "code",
   "execution_count": null,
   "id": "6b1aaf7f",
   "metadata": {},
   "outputs": [],
   "source": []
  }
 ],
 "metadata": {
  "kernelspec": {
   "display_name": "Python 3",
   "language": "python",
   "name": "python3"
  },
  "language_info": {
   "codemirror_mode": {
    "name": "ipython",
    "version": 3
   },
   "file_extension": ".py",
   "mimetype": "text/x-python",
   "name": "python",
   "nbconvert_exporter": "python",
   "pygments_lexer": "ipython3",
   "version": "3.8.5"
  }
 },
 "nbformat": 4,
 "nbformat_minor": 5
}
