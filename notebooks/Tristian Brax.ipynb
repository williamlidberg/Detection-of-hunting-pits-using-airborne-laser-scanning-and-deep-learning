{
 "cells": [
  {
   "cell_type": "markdown",
   "id": "dd082088-2c6e-41c8-ae21-7351514dab68",
   "metadata": {},
   "source": [
    "# The topography of Hässleholm vs Sweden"
   ]
  },
  {
   "cell_type": "code",
   "execution_count": 1,
   "id": "ba998de5-b4cb-4855-b953-e9cb3ff2b09f",
   "metadata": {
    "tags": []
   },
   "outputs": [
    {
     "name": "stdout",
     "output_type": "stream",
     "text": [
      "Downloading WhiteboxTools pre-compiled binary for first time use ...\n",
      "Decompressing WhiteboxTools_linux_amd64.zip ...\n",
      "WhiteboxTools package directory: /usr/local/lib/python3.8/dist-packages/whitebox\n",
      "Downloading testdata ...\n"
     ]
    }
   ],
   "source": [
    "import os\n",
    "import whitebox\n",
    "wbt = whitebox.WhiteboxTools()"
   ]
  },
  {
   "cell_type": "code",
   "execution_count": null,
   "id": "14d25d71-271b-4753-a283-72aeb125f489",
   "metadata": {},
   "outputs": [],
   "source": []
  }
 ],
 "metadata": {
  "kernelspec": {
   "display_name": "Python 3 (ipykernel)",
   "language": "python",
   "name": "python3"
  },
  "language_info": {
   "codemirror_mode": {
    "name": "ipython",
    "version": 3
   },
   "file_extension": ".py",
   "mimetype": "text/x-python",
   "name": "python",
   "nbconvert_exporter": "python",
   "pygments_lexer": "ipython3",
   "version": "3.8.10"
  }
 },
 "nbformat": 4,
 "nbformat_minor": 5
}
