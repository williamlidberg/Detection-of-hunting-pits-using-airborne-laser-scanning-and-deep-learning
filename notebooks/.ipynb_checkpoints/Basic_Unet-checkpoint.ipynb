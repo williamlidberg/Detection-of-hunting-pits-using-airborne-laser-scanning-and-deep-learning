{
 "cells": [
  {
   "cell_type": "markdown",
   "id": "34651113-e5f9-4be7-8278-a198fb65c989",
   "metadata": {
    "tags": []
   },
   "source": [
    "# Basic U-net"
   ]
  },
  {
   "cell_type": "code",
   "execution_count": 1,
   "id": "602ea782-0708-438b-ae77-e0fa79f8ea76",
   "metadata": {},
   "outputs": [
    {
     "name": "stderr",
     "output_type": "stream",
     "text": [
      "2023-05-07 13:27:59.222434: I tensorflow/core/platform/cpu_feature_guard.cc:194] This TensorFlow binary is optimized with oneAPI Deep Neural Network Library (oneDNN) to use the following CPU instructions in performance-critical operations:  SSE3 SSE4.1 SSE4.2 AVX\n",
      "To enable them in other operations, rebuild TensorFlow with the appropriate compiler flags.\n"
     ]
    }
   ],
   "source": [
    "import os\n",
    "import imageio.v2 as imageio\n",
    "from skimage.transform import resize # For preprocessing\n",
    "import tensorflow as tf"
   ]
  },
  {
   "cell_type": "markdown",
   "id": "ddd6c7ef-c759-4864-bfcc-fc318b6eca0a",
   "metadata": {},
   "source": [
    "## Read data from disk and set up pipeline"
   ]
  },
  {
   "cell_type": "code",
   "execution_count": 2,
   "id": "0bb42168-03ca-4522-ba66-9ed5ed293dc2",
   "metadata": {
    "tags": []
   },
   "outputs": [
    {
     "name": "stdout",
     "output_type": "stream",
     "text": [
      "loaded training data\n",
      "loaded testing data\n",
      "CPU times: user 16.6 s, sys: 1.95 s, total: 18.5 s\n",
      "Wall time: 25.2 s\n"
     ]
    }
   ],
   "source": [
    "%%time\n",
    "\n",
    "IMG_WIDTH = 256 # the original images are 250x250. is this a ok way to change size?\n",
    "IMG_HEIGHT = 256\n",
    "IMG_CHANNELS = 1 # a grey scale image only has one band for color.\n",
    "NUM_CLASSES = 1 # 0 = no crater and 1 = crater\n",
    "\n",
    "#### Training data ####\n",
    "TRAIN_PATH = '/workspace/data/final_data_05m/training/'\n",
    "IMG_DIR = 'minimal_curvature'\n",
    "GT_DIR = 'labels'\n",
    "X_train_pit = []\n",
    "Y_train_pit = []\n",
    "\n",
    "# load from disk\n",
    "img_path = os.path.join(TRAIN_PATH, IMG_DIR)\n",
    "gt_path = os.path.join(TRAIN_PATH, GT_DIR)\n",
    "for image in (os.listdir(img_path)):\n",
    "    img = imageio.imread(os.path.join(img_path, image))\n",
    "\n",
    "    img = resize(img, (IMG_WIDTH, IMG_HEIGHT,1), mode='constant', preserve_range=True)\n",
    "    \n",
    "    mask = imageio.imread(os.path.join(gt_path, image))\n",
    "    mask = resize(mask, (IMG_WIDTH, IMG_HEIGHT, 1), preserve_range=True, order=0).astype(int)\n",
    "    \n",
    "    X_train_pit.append(img)\n",
    "    Y_train_pit.append(mask)\n",
    "    \n",
    "print('loaded training data')\n",
    "#### Test data ####\n",
    "TEST_PATH = '/workspace/data/final_data_05m/testing/'\n",
    "IMG_DIR = 'minimal_curvature'\n",
    "GT_DIR = 'labels'\n",
    "X_test_pit = []\n",
    "Y_test_pit = []\n",
    "\n",
    "# load from disk\n",
    "img_path = os.path.join(TEST_PATH, IMG_DIR)\n",
    "gt_path = os.path.join(TEST_PATH, GT_DIR)\n",
    "for image in (os.listdir(img_path)):\n",
    "    img = imageio.imread(os.path.join(img_path, image))\n",
    "    img = resize(img, (IMG_WIDTH, IMG_HEIGHT,1), mode='constant', preserve_range=True)\n",
    "    mask = imageio.imread(os.path.join(gt_path, image))\n",
    "    mask = resize(mask, (IMG_WIDTH, IMG_HEIGHT, 1), preserve_range=True, order=0).astype(int)\n",
    "    \n",
    "    X_test_pit.append(img)\n",
    "    Y_test_pit.append(mask)\n",
    "print('loaded testing data')\n",
    "    \n",
    "\n"
   ]
  },
  {
   "cell_type": "code",
   "execution_count": 3,
   "id": "027cc6ca-e307-4f57-8cab-2aff8e16cb40",
   "metadata": {
    "tags": []
   },
   "outputs": [
    {
     "name": "stderr",
     "output_type": "stream",
     "text": [
      "2023-05-07 13:28:25.846156: I tensorflow/stream_executor/cuda/cuda_gpu_executor.cc:996] successful NUMA node read from SysFS had negative value (-1), but there must be at least one NUMA node, so returning NUMA node zero\n",
      "2023-05-07 13:28:25.853164: I tensorflow/stream_executor/cuda/cuda_gpu_executor.cc:996] successful NUMA node read from SysFS had negative value (-1), but there must be at least one NUMA node, so returning NUMA node zero\n",
      "2023-05-07 13:28:25.853413: I tensorflow/stream_executor/cuda/cuda_gpu_executor.cc:996] successful NUMA node read from SysFS had negative value (-1), but there must be at least one NUMA node, so returning NUMA node zero\n",
      "2023-05-07 13:28:25.853985: I tensorflow/core/platform/cpu_feature_guard.cc:194] This TensorFlow binary is optimized with oneAPI Deep Neural Network Library (oneDNN) to use the following CPU instructions in performance-critical operations:  SSE3 SSE4.1 SSE4.2 AVX\n",
      "To enable them in other operations, rebuild TensorFlow with the appropriate compiler flags.\n",
      "2023-05-07 13:28:25.860963: I tensorflow/stream_executor/cuda/cuda_gpu_executor.cc:996] successful NUMA node read from SysFS had negative value (-1), but there must be at least one NUMA node, so returning NUMA node zero\n",
      "2023-05-07 13:28:25.861128: I tensorflow/stream_executor/cuda/cuda_gpu_executor.cc:996] successful NUMA node read from SysFS had negative value (-1), but there must be at least one NUMA node, so returning NUMA node zero\n",
      "2023-05-07 13:28:25.861265: I tensorflow/stream_executor/cuda/cuda_gpu_executor.cc:996] successful NUMA node read from SysFS had negative value (-1), but there must be at least one NUMA node, so returning NUMA node zero\n",
      "2023-05-07 13:28:26.278271: I tensorflow/stream_executor/cuda/cuda_gpu_executor.cc:996] successful NUMA node read from SysFS had negative value (-1), but there must be at least one NUMA node, so returning NUMA node zero\n",
      "2023-05-07 13:28:26.278477: I tensorflow/stream_executor/cuda/cuda_gpu_executor.cc:996] successful NUMA node read from SysFS had negative value (-1), but there must be at least one NUMA node, so returning NUMA node zero\n",
      "2023-05-07 13:28:26.278620: I tensorflow/stream_executor/cuda/cuda_gpu_executor.cc:996] successful NUMA node read from SysFS had negative value (-1), but there must be at least one NUMA node, so returning NUMA node zero\n",
      "2023-05-07 13:28:26.278746: I tensorflow/core/common_runtime/gpu/gpu_device.cc:1637] Created device /job:localhost/replica:0/task:0/device:GPU:0 with 46187 MB memory:  -> device: 0, name: NVIDIA RTX A6000, pci bus id: 0000:22:00.0, compute capability: 8.6\n"
     ]
    },
    {
     "name": "stdout",
     "output_type": "stream",
     "text": [
      "CPU times: user 3min 1s, sys: 2.69 s, total: 3min 3s\n",
      "Wall time: 3min 3s\n"
     ]
    }
   ],
   "source": [
    "%%time\n",
    "\n",
    "# convert list of numpy arrays into tensorflow dataset for further processing\n",
    "train_images_pit = tf.data.Dataset.from_tensor_slices((X_train_pit, Y_train_pit))\n",
    "test_images_pit = tf.data.Dataset.from_tensor_slices((X_test_pit, Y_test_pit))\n",
    "\n",
    "\n",
    "BATCH_SIZE = 16\n",
    "BUFFER_SIZE = 128\n",
    "\n",
    "# training\n",
    "train_batches_pit  = (train_images_pit \n",
    "                    .cache() # cache data\n",
    "                    .shuffle(BUFFER_SIZE) # fill buffer, sample from it and replace with new items (buffer size > training set for perfect shuffling)\n",
    "                    .batch(BATCH_SIZE)  \n",
    "                    .repeat() \n",
    "                    .prefetch(buffer_size=128))\n",
    "# testing\n",
    "test_batches_pit  = (test_images_pit  \n",
    "                    .cache() # cache data\n",
    "                    .shuffle(BUFFER_SIZE) # fill buffer, sample from it and replace with new items (buffer size > training set for perfect shuffling)\n",
    "                    .batch(BATCH_SIZE)  \n",
    "                    .repeat(1)  # repeat dataset idefinetely\n",
    "                    .prefetch(buffer_size=128)) "
   ]
  },
  {
   "cell_type": "markdown",
   "id": "36b1c902-321e-4dbe-83ab-2a13a2d2e2e8",
   "metadata": {},
   "source": [
    "## Add recall and f1-score as custom metrics"
   ]
  },
  {
   "cell_type": "code",
   "execution_count": 4,
   "id": "05af415f-d44d-41c0-9916-7ddaa0f43fc4",
   "metadata": {},
   "outputs": [],
   "source": [
    "from keras import backend as K\n",
    "\n",
    "def recall_m(y_true, y_pred):\n",
    "    true_positives = K.sum(K.round(K.clip(y_true * y_pred, 0, 1)))\n",
    "    possible_positives = K.sum(K.round(K.clip(y_true, 0, 1)))\n",
    "    recall = true_positives / (possible_positives + K.epsilon())\n",
    "    return recall\n",
    "\n",
    "def precision_m(y_true, y_pred):\n",
    "    true_positives = K.sum(K.round(K.clip(y_true * y_pred, 0, 1)))\n",
    "    predicted_positives = K.sum(K.round(K.clip(y_pred, 0, 1)))\n",
    "    precision = true_positives / (predicted_positives + K.epsilon())\n",
    "    return precision\n",
    "\n",
    "def f1_m(y_true, y_pred):\n",
    "    precision = precision_m(y_true, y_pred)\n",
    "    recall = recall_m(y_true, y_pred)\n",
    "    return 2*((precision*recall)/(precision+recall+K.epsilon()))"
   ]
  },
  {
   "cell_type": "markdown",
   "id": "32380678-0cda-47ac-bb4e-c3455800dcde",
   "metadata": {},
   "source": [
    "## Define a basic U-net"
   ]
  },
  {
   "cell_type": "code",
   "execution_count": 9,
   "id": "78856e14-d6e7-4485-bb76-f4235451d69c",
   "metadata": {
    "tags": []
   },
   "outputs": [
    {
     "name": "stdout",
     "output_type": "stream",
     "text": [
      "INFO:tensorflow:Mixed precision compatibility check (mixed_float16): OK\n",
      "Your GPU will likely run quickly with dtype policy mixed_float16 as it has compute capability of at least 7.0. Your GPU: NVIDIA RTX A6000, compute capability 8.6\n"
     ]
    },
    {
     "name": "stderr",
     "output_type": "stream",
     "text": [
      "2023-05-07 13:38:05.784338: I tensorflow/stream_executor/cuda/cuda_gpu_executor.cc:996] successful NUMA node read from SysFS had negative value (-1), but there must be at least one NUMA node, so returning NUMA node zero\n"
     ]
    },
    {
     "name": "stdout",
     "output_type": "stream",
     "text": [
      "CPU times: user 229 ms, sys: 24.2 ms, total: 253 ms\n",
      "Wall time: 251 ms\n"
     ]
    }
   ],
   "source": [
    "%%time\n",
    "#tf.keras.mixed_precision.set_global_policy(\"mixed_float16\")\n",
    "#tf.keras.mixed_precision.set_global_policy(\"float32\")\n",
    "#Build the model\n",
    "tf.keras.utils.set_random_seed(1)\n",
    "inputs = tf.keras.layers.Input((IMG_HEIGHT, IMG_WIDTH, IMG_CHANNELS))\n",
    "NUM_CLASSES = 1\n",
    "\n",
    "# augmentation\n",
    "#c0 = tf.keras.layers.RandomFlip(mode='horizontal_and_vertical')(inputs)\n",
    "#c0 = tf.keras.layers.RandomRotation(0.1)(c0)\n",
    "\n",
    "#Contraction path\n",
    "c1 = tf.keras.layers.Conv2D(32, (3, 3), activation='relu', kernel_initializer='he_normal', padding='same')(inputs)\n",
    "c1 = tf.keras.layers.Dropout(0.1)(c1) # to prevent overfitting\n",
    "c1 = tf.keras.layers.Conv2D(32, (3, 3), activation='relu', kernel_initializer='he_normal', padding='same')(c1)\n",
    "p1 = tf.keras.layers.MaxPooling2D((2, 2))(c1)\n",
    "\n",
    "c2 = tf.keras.layers.Conv2D(64, (3, 3), activation='relu', kernel_initializer='he_normal', padding='same')(p1)\n",
    "c2 = tf.keras.layers.Dropout(0.1)(c2)\n",
    "c2 = tf.keras.layers.Conv2D(64, (3, 3), activation='relu', kernel_initializer='he_normal', padding='same')(c2)\n",
    "p2 = tf.keras.layers.MaxPooling2D((2, 2))(c2)\n",
    " \n",
    "c3 = tf.keras.layers.Conv2D(128, (3, 3), activation='relu', kernel_initializer='he_normal', padding='same')(p2)\n",
    "c3 = tf.keras.layers.Dropout(0.2)(c3)\n",
    "c3 = tf.keras.layers.Conv2D(128, (3, 3), activation='relu', kernel_initializer='he_normal', padding='same')(c3)\n",
    "p3 = tf.keras.layers.MaxPooling2D((2, 2))(c3)\n",
    " \n",
    "c4 = tf.keras.layers.Conv2D(256, (3, 3), activation='relu', kernel_initializer='he_normal', padding='same')(p3)\n",
    "c4 = tf.keras.layers.Dropout(0.2)(c4)\n",
    "c4 = tf.keras.layers.Conv2D(256, (3, 3), activation='relu', kernel_initializer='he_normal', padding='same')(c4)\n",
    "p4 = tf.keras.layers.MaxPooling2D(pool_size=(2, 2))(c4)\n",
    " \n",
    "c5 = tf.keras.layers.Conv2D(512, (3, 3), activation='relu', kernel_initializer='he_normal', padding='same')(p4)\n",
    "c5 = tf.keras.layers.Dropout(0.3)(c5)\n",
    "c5 = tf.keras.layers.Conv2D(512, (3, 3), activation='relu', kernel_initializer='he_normal', padding='same')(c5)\n",
    "\n",
    "#Expansive path \n",
    "u6 = tf.keras.layers.Conv2DTranspose(256, (2, 2), strides=(2, 2), padding='same')(c5)\n",
    "u6 = tf.keras.layers.concatenate([u6, c4])\n",
    "c6 = tf.keras.layers.Conv2D(256, (3, 3), activation='relu', kernel_initializer='he_normal', padding='same')(u6)\n",
    "c6 = tf.keras.layers.Dropout(0.2)(c6)\n",
    "c6 = tf.keras.layers.Conv2D(256, (3, 3), activation='relu', kernel_initializer='he_normal', padding='same')(c6)\n",
    " \n",
    "u7 = tf.keras.layers.Conv2DTranspose(128, (2, 2), strides=(2, 2), padding='same')(c6)\n",
    "u7 = tf.keras.layers.concatenate([u7, c3])\n",
    "c7 = tf.keras.layers.Conv2D(128, (3, 3), activation='relu', kernel_initializer='he_normal', padding='same')(u7)\n",
    "c7 = tf.keras.layers.Dropout(0.2)(c7)\n",
    "c7 = tf.keras.layers.Conv2D(128, (3, 3), activation='relu', kernel_initializer='he_normal', padding='same')(c7)\n",
    " \n",
    "u8 = tf.keras.layers.Conv2DTranspose(64, (2, 2), strides=(2, 2), padding='same')(c7)\n",
    "u8 = tf.keras.layers.concatenate([u8, c2])\n",
    "c8 = tf.keras.layers.Conv2D(64, (3, 3), activation='relu', kernel_initializer='he_normal', padding='same')(u8)\n",
    "c8 = tf.keras.layers.Dropout(0.1)(c8)\n",
    "c8 = tf.keras.layers.Conv2D(64, (3, 3), activation='relu', kernel_initializer='he_normal', padding='same')(c8)\n",
    " \n",
    "u9 = tf.keras.layers.Conv2DTranspose(32, (2, 2), strides=(2, 2), padding='same')(c8)\n",
    "u9 = tf.keras.layers.concatenate([u9, c1], axis=3)\n",
    "c9 = tf.keras.layers.Conv2D(32, (3, 3), activation='relu', kernel_initializer='he_normal', padding='same')(u9)\n",
    "c9 = tf.keras.layers.Dropout(0.1)(c9)\n",
    "c9 = tf.keras.layers.Conv2D(32, (3, 3), activation='relu', kernel_initializer='he_normal', padding='same')(c9)\n",
    " \n",
    "outputs = tf.keras.layers.Conv2D(NUM_CLASSES, (1, 1))(c9)\n",
    "\n",
    "model_pit = tf.keras.Model(inputs=[inputs], outputs=[outputs])\n",
    "model_pit.compile(tf.keras.optimizers.Adam(learning_rate=0.001), loss=tf.keras.losses.BinaryFocalCrossentropy(gamma=2.0, from_logits=True), metrics=['acc', f1_m, recall_m])"
   ]
  },
  {
   "cell_type": "markdown",
   "id": "82f4fac2-c34f-4348-b2af-81e0556705f6",
   "metadata": {},
   "source": [
    "## Train the model"
   ]
  },
  {
   "cell_type": "code",
   "execution_count": 10,
   "id": "0c31f456-95ea-4aa3-b123-2ee2b308fe61",
   "metadata": {},
   "outputs": [
    {
     "name": "stdout",
     "output_type": "stream",
     "text": [
      "Epoch 1/100\n",
      "83/83 [==============================] - 6s 50ms/step - loss: nan - acc: 0.9881 - f1_m: 0.0016 - recall_m: 8.5138e-04 - val_loss: nan - val_acc: 0.9887 - val_f1_m: 0.0000e+00 - val_recall_m: 0.0000e+00\n",
      "Epoch 2/100\n",
      "83/83 [==============================] - 4s 42ms/step - loss: nan - acc: 0.9881 - f1_m: 0.0016 - recall_m: 8.5899e-04 - val_loss: nan - val_acc: 0.9887 - val_f1_m: 0.0000e+00 - val_recall_m: 0.0000e+00\n",
      "Epoch 3/100\n",
      "83/83 [==============================] - 3s 42ms/step - loss: nan - acc: 0.9882 - f1_m: 0.0016 - recall_m: 8.5386e-04 - val_loss: nan - val_acc: 0.9887 - val_f1_m: 0.0000e+00 - val_recall_m: 0.0000e+00\n",
      "Epoch 4/100\n",
      "83/83 [==============================] - 3s 42ms/step - loss: nan - acc: 0.9882 - f1_m: 0.0016 - recall_m: 8.5585e-04 - val_loss: nan - val_acc: 0.9887 - val_f1_m: 0.0000e+00 - val_recall_m: 0.0000e+00\n",
      "Epoch 5/100\n",
      "83/83 [==============================] - 3s 42ms/step - loss: nan - acc: 0.9880 - f1_m: 0.0015 - recall_m: 8.2613e-04 - val_loss: nan - val_acc: 0.9887 - val_f1_m: 0.0000e+00 - val_recall_m: 0.0000e+00\n",
      "Epoch 6/100\n",
      "83/83 [==============================] - 3s 42ms/step - loss: nan - acc: 0.9882 - f1_m: 0.0015 - recall_m: 8.0279e-04 - val_loss: nan - val_acc: 0.9887 - val_f1_m: 0.0000e+00 - val_recall_m: 0.0000e+00\n",
      "Epoch 7/100\n",
      "83/83 [==============================] - 3s 42ms/step - loss: nan - acc: 0.9881 - f1_m: 0.0015 - recall_m: 7.9574e-04 - val_loss: nan - val_acc: 0.9887 - val_f1_m: 0.0000e+00 - val_recall_m: 0.0000e+00\n",
      "Epoch 8/100\n",
      "83/83 [==============================] - 3s 42ms/step - loss: nan - acc: 0.9881 - f1_m: 0.0015 - recall_m: 8.3637e-04 - val_loss: nan - val_acc: 0.9887 - val_f1_m: 0.0000e+00 - val_recall_m: 0.0000e+00\n",
      "Epoch 9/100\n",
      "83/83 [==============================] - 3s 42ms/step - loss: nan - acc: 0.9882 - f1_m: 0.0015 - recall_m: 8.1455e-04 - val_loss: nan - val_acc: 0.9887 - val_f1_m: 0.0000e+00 - val_recall_m: 0.0000e+00\n",
      "Epoch 10/100\n",
      "83/83 [==============================] - 3s 42ms/step - loss: nan - acc: 0.9881 - f1_m: 0.0017 - recall_m: 9.0297e-04 - val_loss: nan - val_acc: 0.9887 - val_f1_m: 0.0000e+00 - val_recall_m: 0.0000e+00\n",
      "Epoch 11/100\n",
      "83/83 [==============================] - 3s 42ms/step - loss: nan - acc: 0.9879 - f1_m: 0.0015 - recall_m: 8.3003e-04 - val_loss: nan - val_acc: 0.9887 - val_f1_m: 0.0000e+00 - val_recall_m: 0.0000e+00\n",
      "Epoch 12/100\n",
      "83/83 [==============================] - 3s 42ms/step - loss: nan - acc: 0.9882 - f1_m: 0.0015 - recall_m: 8.3800e-04 - val_loss: nan - val_acc: 0.9887 - val_f1_m: 0.0000e+00 - val_recall_m: 0.0000e+00\n",
      "Epoch 13/100\n",
      "83/83 [==============================] - 4s 42ms/step - loss: nan - acc: 0.9881 - f1_m: 0.0016 - recall_m: 8.5822e-04 - val_loss: nan - val_acc: 0.9887 - val_f1_m: 0.0000e+00 - val_recall_m: 0.0000e+00\n",
      "Epoch 14/100\n",
      "83/83 [==============================] - 3s 42ms/step - loss: nan - acc: 0.9881 - f1_m: 0.0015 - recall_m: 8.2604e-04 - val_loss: nan - val_acc: 0.9887 - val_f1_m: 0.0000e+00 - val_recall_m: 0.0000e+00\n",
      "Epoch 15/100\n",
      "83/83 [==============================] - 3s 42ms/step - loss: nan - acc: 0.9883 - f1_m: 0.0016 - recall_m: 8.4293e-04 - val_loss: nan - val_acc: 0.9887 - val_f1_m: 0.0000e+00 - val_recall_m: 0.0000e+00\n",
      "Epoch 16/100\n",
      "83/83 [==============================] - 3s 42ms/step - loss: nan - acc: 0.9882 - f1_m: 0.0015 - recall_m: 7.9883e-04 - val_loss: nan - val_acc: 0.9887 - val_f1_m: 0.0000e+00 - val_recall_m: 0.0000e+00\n",
      "Epoch 17/100\n",
      "83/83 [==============================] - 3s 42ms/step - loss: nan - acc: 0.9880 - f1_m: 0.0017 - recall_m: 8.9371e-04 - val_loss: nan - val_acc: 0.9887 - val_f1_m: 0.0000e+00 - val_recall_m: 0.0000e+00\n",
      "Epoch 18/100\n",
      "83/83 [==============================] - 3s 42ms/step - loss: nan - acc: 0.9882 - f1_m: 0.0016 - recall_m: 8.6752e-04 - val_loss: nan - val_acc: 0.9887 - val_f1_m: 0.0000e+00 - val_recall_m: 0.0000e+00\n",
      "Epoch 19/100\n",
      "83/83 [==============================] - 3s 42ms/step - loss: nan - acc: 0.9882 - f1_m: 0.0014 - recall_m: 7.6467e-04 - val_loss: nan - val_acc: 0.9887 - val_f1_m: 0.0000e+00 - val_recall_m: 0.0000e+00\n",
      "Epoch 20/100\n",
      "83/83 [==============================] - 3s 42ms/step - loss: nan - acc: 0.9881 - f1_m: 0.0016 - recall_m: 8.4828e-04 - val_loss: nan - val_acc: 0.9887 - val_f1_m: 0.0000e+00 - val_recall_m: 0.0000e+00\n",
      "Epoch 21/100\n",
      "83/83 [==============================] - 3s 42ms/step - loss: nan - acc: 0.9881 - f1_m: 0.0015 - recall_m: 7.8635e-04 - val_loss: nan - val_acc: 0.9887 - val_f1_m: 0.0000e+00 - val_recall_m: 0.0000e+00\n",
      "Epoch 22/100\n",
      "83/83 [==============================] - 4s 42ms/step - loss: nan - acc: 0.9880 - f1_m: 0.0017 - recall_m: 9.0197e-04 - val_loss: nan - val_acc: 0.9887 - val_f1_m: 0.0000e+00 - val_recall_m: 0.0000e+00\n",
      "Epoch 23/100\n",
      "83/83 [==============================] - 3s 42ms/step - loss: nan - acc: 0.9882 - f1_m: 0.0016 - recall_m: 8.5133e-04 - val_loss: nan - val_acc: 0.9887 - val_f1_m: 0.0000e+00 - val_recall_m: 0.0000e+00\n",
      "Epoch 24/100\n",
      "83/83 [==============================] - 4s 42ms/step - loss: nan - acc: 0.9881 - f1_m: 0.0014 - recall_m: 7.8400e-04 - val_loss: nan - val_acc: 0.9887 - val_f1_m: 0.0000e+00 - val_recall_m: 0.0000e+00\n",
      "Epoch 25/100\n",
      "83/83 [==============================] - 4s 42ms/step - loss: nan - acc: 0.9883 - f1_m: 0.0016 - recall_m: 8.4149e-04 - val_loss: nan - val_acc: 0.9887 - val_f1_m: 0.0000e+00 - val_recall_m: 0.0000e+00\n",
      "Epoch 26/100\n",
      "83/83 [==============================] - 3s 42ms/step - loss: nan - acc: 0.9880 - f1_m: 0.0017 - recall_m: 8.9353e-04 - val_loss: nan - val_acc: 0.9887 - val_f1_m: 0.0000e+00 - val_recall_m: 0.0000e+00\n",
      "Epoch 27/100\n",
      "83/83 [==============================] - 4s 42ms/step - loss: nan - acc: 0.9881 - f1_m: 0.0015 - recall_m: 8.2322e-04 - val_loss: nan - val_acc: 0.9887 - val_f1_m: 0.0000e+00 - val_recall_m: 0.0000e+00\n",
      "Epoch 28/100\n",
      "83/83 [==============================] - 4s 43ms/step - loss: nan - acc: 0.9881 - f1_m: 0.0016 - recall_m: 8.8159e-04 - val_loss: nan - val_acc: 0.9887 - val_f1_m: 0.0000e+00 - val_recall_m: 0.0000e+00\n",
      "Epoch 29/100\n",
      "83/83 [==============================] - 3s 42ms/step - loss: nan - acc: 0.9882 - f1_m: 0.0016 - recall_m: 8.5897e-04 - val_loss: nan - val_acc: 0.9887 - val_f1_m: 0.0000e+00 - val_recall_m: 0.0000e+00\n",
      "Epoch 30/100\n",
      "83/83 [==============================] - 4s 42ms/step - loss: nan - acc: 0.9881 - f1_m: 0.0016 - recall_m: 8.5106e-04 - val_loss: nan - val_acc: 0.9887 - val_f1_m: 0.0000e+00 - val_recall_m: 0.0000e+00\n",
      "Epoch 31/100\n",
      "83/83 [==============================] - 3s 42ms/step - loss: nan - acc: 0.9882 - f1_m: 0.0015 - recall_m: 8.2514e-04 - val_loss: nan - val_acc: 0.9887 - val_f1_m: 0.0000e+00 - val_recall_m: 0.0000e+00\n",
      "Epoch 32/100\n",
      "83/83 [==============================] - 4s 42ms/step - loss: nan - acc: 0.9881 - f1_m: 0.0015 - recall_m: 8.3640e-04 - val_loss: nan - val_acc: 0.9887 - val_f1_m: 0.0000e+00 - val_recall_m: 0.0000e+00\n",
      "Epoch 33/100\n",
      "83/83 [==============================] - 4s 42ms/step - loss: nan - acc: 0.9882 - f1_m: 0.0015 - recall_m: 8.2784e-04 - val_loss: nan - val_acc: 0.9887 - val_f1_m: 0.0000e+00 - val_recall_m: 0.0000e+00\n",
      "Epoch 34/100\n",
      "83/83 [==============================] - 4s 42ms/step - loss: nan - acc: 0.9881 - f1_m: 0.0015 - recall_m: 8.0600e-04 - val_loss: nan - val_acc: 0.9887 - val_f1_m: 0.0000e+00 - val_recall_m: 0.0000e+00\n",
      "Epoch 35/100\n",
      "83/83 [==============================] - 4s 42ms/step - loss: nan - acc: 0.9881 - f1_m: 0.0016 - recall_m: 8.7805e-04 - val_loss: nan - val_acc: 0.9887 - val_f1_m: 0.0000e+00 - val_recall_m: 0.0000e+00\n",
      "Epoch 36/100\n",
      "83/83 [==============================] - 4s 42ms/step - loss: nan - acc: 0.9881 - f1_m: 0.0015 - recall_m: 7.9602e-04 - val_loss: nan - val_acc: 0.9887 - val_f1_m: 0.0000e+00 - val_recall_m: 0.0000e+00\n",
      "Epoch 37/100\n",
      "83/83 [==============================] - 3s 42ms/step - loss: nan - acc: 0.9881 - f1_m: 0.0015 - recall_m: 8.2064e-04 - val_loss: nan - val_acc: 0.9887 - val_f1_m: 0.0000e+00 - val_recall_m: 0.0000e+00\n",
      "Epoch 38/100\n",
      "83/83 [==============================] - 4s 42ms/step - loss: nan - acc: 0.9881 - f1_m: 0.0016 - recall_m: 8.6608e-04 - val_loss: nan - val_acc: 0.9887 - val_f1_m: 0.0000e+00 - val_recall_m: 0.0000e+00\n",
      "Epoch 39/100\n",
      "83/83 [==============================] - 4s 42ms/step - loss: nan - acc: 0.9883 - f1_m: 0.0016 - recall_m: 8.4551e-04 - val_loss: nan - val_acc: 0.9887 - val_f1_m: 0.0000e+00 - val_recall_m: 0.0000e+00\n",
      "Epoch 40/100\n",
      "83/83 [==============================] - 3s 42ms/step - loss: nan - acc: 0.9882 - f1_m: 0.0016 - recall_m: 8.4259e-04 - val_loss: nan - val_acc: 0.9887 - val_f1_m: 0.0000e+00 - val_recall_m: 0.0000e+00\n",
      "Epoch 41/100\n",
      "83/83 [==============================] - 3s 42ms/step - loss: nan - acc: 0.9881 - f1_m: 0.0015 - recall_m: 8.1980e-04 - val_loss: nan - val_acc: 0.9887 - val_f1_m: 0.0000e+00 - val_recall_m: 0.0000e+00\n",
      "Epoch 42/100\n",
      "83/83 [==============================] - 4s 42ms/step - loss: nan - acc: 0.9882 - f1_m: 0.0015 - recall_m: 8.2225e-04 - val_loss: nan - val_acc: 0.9887 - val_f1_m: 0.0000e+00 - val_recall_m: 0.0000e+00\n",
      "Epoch 43/100\n",
      "83/83 [==============================] - 4s 42ms/step - loss: nan - acc: 0.9881 - f1_m: 0.0015 - recall_m: 8.2239e-04 - val_loss: nan - val_acc: 0.9887 - val_f1_m: 0.0000e+00 - val_recall_m: 0.0000e+00\n",
      "Epoch 44/100\n",
      "83/83 [==============================] - 3s 42ms/step - loss: nan - acc: 0.9883 - f1_m: 0.0016 - recall_m: 8.4976e-04 - val_loss: nan - val_acc: 0.9887 - val_f1_m: 0.0000e+00 - val_recall_m: 0.0000e+00\n",
      "Epoch 45/100\n",
      "83/83 [==============================] - 3s 42ms/step - loss: nan - acc: 0.9882 - f1_m: 0.0015 - recall_m: 8.3730e-04 - val_loss: nan - val_acc: 0.9887 - val_f1_m: 0.0000e+00 - val_recall_m: 0.0000e+00\n",
      "Epoch 46/100\n",
      "83/83 [==============================] - 4s 43ms/step - loss: nan - acc: 0.9881 - f1_m: 0.0016 - recall_m: 8.5187e-04 - val_loss: nan - val_acc: 0.9887 - val_f1_m: 0.0000e+00 - val_recall_m: 0.0000e+00\n",
      "Epoch 47/100\n",
      "83/83 [==============================] - 4s 42ms/step - loss: nan - acc: 0.9884 - f1_m: 0.0016 - recall_m: 8.7904e-04 - val_loss: nan - val_acc: 0.9887 - val_f1_m: 0.0000e+00 - val_recall_m: 0.0000e+00\n",
      "Epoch 48/100\n",
      "83/83 [==============================] - 4s 42ms/step - loss: nan - acc: 0.9880 - f1_m: 0.0016 - recall_m: 8.5414e-04 - val_loss: nan - val_acc: 0.9887 - val_f1_m: 0.0000e+00 - val_recall_m: 0.0000e+00\n",
      "Epoch 49/100\n",
      "83/83 [==============================] - 3s 42ms/step - loss: nan - acc: 0.9885 - f1_m: 0.0015 - recall_m: 7.9150e-04 - val_loss: nan - val_acc: 0.9887 - val_f1_m: 0.0000e+00 - val_recall_m: 0.0000e+00\n",
      "Epoch 50/100\n",
      "83/83 [==============================] - 4s 42ms/step - loss: nan - acc: 0.9881 - f1_m: 0.0016 - recall_m: 8.5471e-04 - val_loss: nan - val_acc: 0.9887 - val_f1_m: 0.0000e+00 - val_recall_m: 0.0000e+00\n",
      "Epoch 51/100\n",
      "83/83 [==============================] - 4s 42ms/step - loss: nan - acc: 0.9882 - f1_m: 0.0015 - recall_m: 8.3361e-04 - val_loss: nan - val_acc: 0.9887 - val_f1_m: 0.0000e+00 - val_recall_m: 0.0000e+00\n",
      "Epoch 52/100\n",
      "83/83 [==============================] - 3s 42ms/step - loss: nan - acc: 0.9883 - f1_m: 0.0015 - recall_m: 8.2715e-04 - val_loss: nan - val_acc: 0.9887 - val_f1_m: 0.0000e+00 - val_recall_m: 0.0000e+00\n",
      "Epoch 53/100\n",
      "83/83 [==============================] - 4s 42ms/step - loss: nan - acc: 0.9884 - f1_m: 0.0015 - recall_m: 8.3268e-04 - val_loss: nan - val_acc: 0.9887 - val_f1_m: 0.0000e+00 - val_recall_m: 0.0000e+00\n",
      "Epoch 54/100\n",
      "83/83 [==============================] - 4s 42ms/step - loss: nan - acc: 0.9881 - f1_m: 0.0016 - recall_m: 8.4133e-04 - val_loss: nan - val_acc: 0.9887 - val_f1_m: 0.0000e+00 - val_recall_m: 0.0000e+00\n",
      "Epoch 55/100\n",
      "83/83 [==============================] - 4s 42ms/step - loss: nan - acc: 0.9881 - f1_m: 0.0016 - recall_m: 8.6284e-04 - val_loss: nan - val_acc: 0.9887 - val_f1_m: 0.0000e+00 - val_recall_m: 0.0000e+00\n",
      "Epoch 56/100\n",
      "79/83 [===========================>..] - ETA: 0s - loss: nan - acc: 0.9885 - f1_m: 0.0016 - recall_m: 8.4647e-04"
     ]
    },
    {
     "ename": "KeyboardInterrupt",
     "evalue": "",
     "output_type": "error",
     "traceback": [
      "\u001b[0;31m---------------------------------------------------------------------------\u001b[0m",
      "\u001b[0;31mKeyboardInterrupt\u001b[0m                         Traceback (most recent call last)",
      "File \u001b[0;32m<timed exec>:1\u001b[0m\n",
      "File \u001b[0;32m/usr/local/lib/python3.8/dist-packages/keras/utils/traceback_utils.py:65\u001b[0m, in \u001b[0;36mfilter_traceback.<locals>.error_handler\u001b[0;34m(*args, **kwargs)\u001b[0m\n\u001b[1;32m     63\u001b[0m filtered_tb \u001b[38;5;241m=\u001b[39m \u001b[38;5;28;01mNone\u001b[39;00m\n\u001b[1;32m     64\u001b[0m \u001b[38;5;28;01mtry\u001b[39;00m:\n\u001b[0;32m---> 65\u001b[0m     \u001b[38;5;28;01mreturn\u001b[39;00m \u001b[43mfn\u001b[49m\u001b[43m(\u001b[49m\u001b[38;5;241;43m*\u001b[39;49m\u001b[43margs\u001b[49m\u001b[43m,\u001b[49m\u001b[43m \u001b[49m\u001b[38;5;241;43m*\u001b[39;49m\u001b[38;5;241;43m*\u001b[39;49m\u001b[43mkwargs\u001b[49m\u001b[43m)\u001b[49m\n\u001b[1;32m     66\u001b[0m \u001b[38;5;28;01mexcept\u001b[39;00m \u001b[38;5;167;01mException\u001b[39;00m \u001b[38;5;28;01mas\u001b[39;00m e:\n\u001b[1;32m     67\u001b[0m     filtered_tb \u001b[38;5;241m=\u001b[39m _process_traceback_frames(e\u001b[38;5;241m.\u001b[39m__traceback__)\n",
      "File \u001b[0;32m/usr/local/lib/python3.8/dist-packages/keras/engine/training.py:1564\u001b[0m, in \u001b[0;36mModel.fit\u001b[0;34m(self, x, y, batch_size, epochs, verbose, callbacks, validation_split, validation_data, shuffle, class_weight, sample_weight, initial_epoch, steps_per_epoch, validation_steps, validation_batch_size, validation_freq, max_queue_size, workers, use_multiprocessing)\u001b[0m\n\u001b[1;32m   1556\u001b[0m \u001b[38;5;28;01mwith\u001b[39;00m tf\u001b[38;5;241m.\u001b[39mprofiler\u001b[38;5;241m.\u001b[39mexperimental\u001b[38;5;241m.\u001b[39mTrace(\n\u001b[1;32m   1557\u001b[0m     \u001b[38;5;124m\"\u001b[39m\u001b[38;5;124mtrain\u001b[39m\u001b[38;5;124m\"\u001b[39m,\n\u001b[1;32m   1558\u001b[0m     epoch_num\u001b[38;5;241m=\u001b[39mepoch,\n\u001b[0;32m   (...)\u001b[0m\n\u001b[1;32m   1561\u001b[0m     _r\u001b[38;5;241m=\u001b[39m\u001b[38;5;241m1\u001b[39m,\n\u001b[1;32m   1562\u001b[0m ):\n\u001b[1;32m   1563\u001b[0m     callbacks\u001b[38;5;241m.\u001b[39mon_train_batch_begin(step)\n\u001b[0;32m-> 1564\u001b[0m     tmp_logs \u001b[38;5;241m=\u001b[39m \u001b[38;5;28;43mself\u001b[39;49m\u001b[38;5;241;43m.\u001b[39;49m\u001b[43mtrain_function\u001b[49m\u001b[43m(\u001b[49m\u001b[43miterator\u001b[49m\u001b[43m)\u001b[49m\n\u001b[1;32m   1565\u001b[0m     \u001b[38;5;28;01mif\u001b[39;00m data_handler\u001b[38;5;241m.\u001b[39mshould_sync:\n\u001b[1;32m   1566\u001b[0m         context\u001b[38;5;241m.\u001b[39masync_wait()\n",
      "File \u001b[0;32m/usr/local/lib/python3.8/dist-packages/tensorflow/python/util/traceback_utils.py:150\u001b[0m, in \u001b[0;36mfilter_traceback.<locals>.error_handler\u001b[0;34m(*args, **kwargs)\u001b[0m\n\u001b[1;32m    148\u001b[0m filtered_tb \u001b[38;5;241m=\u001b[39m \u001b[38;5;28;01mNone\u001b[39;00m\n\u001b[1;32m    149\u001b[0m \u001b[38;5;28;01mtry\u001b[39;00m:\n\u001b[0;32m--> 150\u001b[0m   \u001b[38;5;28;01mreturn\u001b[39;00m \u001b[43mfn\u001b[49m\u001b[43m(\u001b[49m\u001b[38;5;241;43m*\u001b[39;49m\u001b[43margs\u001b[49m\u001b[43m,\u001b[49m\u001b[43m \u001b[49m\u001b[38;5;241;43m*\u001b[39;49m\u001b[38;5;241;43m*\u001b[39;49m\u001b[43mkwargs\u001b[49m\u001b[43m)\u001b[49m\n\u001b[1;32m    151\u001b[0m \u001b[38;5;28;01mexcept\u001b[39;00m \u001b[38;5;167;01mException\u001b[39;00m \u001b[38;5;28;01mas\u001b[39;00m e:\n\u001b[1;32m    152\u001b[0m   filtered_tb \u001b[38;5;241m=\u001b[39m _process_traceback_frames(e\u001b[38;5;241m.\u001b[39m__traceback__)\n",
      "File \u001b[0;32m/usr/local/lib/python3.8/dist-packages/tensorflow/python/eager/def_function.py:915\u001b[0m, in \u001b[0;36mFunction.__call__\u001b[0;34m(self, *args, **kwds)\u001b[0m\n\u001b[1;32m    912\u001b[0m compiler \u001b[38;5;241m=\u001b[39m \u001b[38;5;124m\"\u001b[39m\u001b[38;5;124mxla\u001b[39m\u001b[38;5;124m\"\u001b[39m \u001b[38;5;28;01mif\u001b[39;00m \u001b[38;5;28mself\u001b[39m\u001b[38;5;241m.\u001b[39m_jit_compile \u001b[38;5;28;01melse\u001b[39;00m \u001b[38;5;124m\"\u001b[39m\u001b[38;5;124mnonXla\u001b[39m\u001b[38;5;124m\"\u001b[39m\n\u001b[1;32m    914\u001b[0m \u001b[38;5;28;01mwith\u001b[39;00m OptionalXlaContext(\u001b[38;5;28mself\u001b[39m\u001b[38;5;241m.\u001b[39m_jit_compile):\n\u001b[0;32m--> 915\u001b[0m   result \u001b[38;5;241m=\u001b[39m \u001b[38;5;28;43mself\u001b[39;49m\u001b[38;5;241;43m.\u001b[39;49m\u001b[43m_call\u001b[49m\u001b[43m(\u001b[49m\u001b[38;5;241;43m*\u001b[39;49m\u001b[43margs\u001b[49m\u001b[43m,\u001b[49m\u001b[43m \u001b[49m\u001b[38;5;241;43m*\u001b[39;49m\u001b[38;5;241;43m*\u001b[39;49m\u001b[43mkwds\u001b[49m\u001b[43m)\u001b[49m\n\u001b[1;32m    917\u001b[0m new_tracing_count \u001b[38;5;241m=\u001b[39m \u001b[38;5;28mself\u001b[39m\u001b[38;5;241m.\u001b[39mexperimental_get_tracing_count()\n\u001b[1;32m    918\u001b[0m without_tracing \u001b[38;5;241m=\u001b[39m (tracing_count \u001b[38;5;241m==\u001b[39m new_tracing_count)\n",
      "File \u001b[0;32m/usr/local/lib/python3.8/dist-packages/tensorflow/python/eager/def_function.py:947\u001b[0m, in \u001b[0;36mFunction._call\u001b[0;34m(self, *args, **kwds)\u001b[0m\n\u001b[1;32m    944\u001b[0m   \u001b[38;5;28mself\u001b[39m\u001b[38;5;241m.\u001b[39m_lock\u001b[38;5;241m.\u001b[39mrelease()\n\u001b[1;32m    945\u001b[0m   \u001b[38;5;66;03m# In this case we have created variables on the first call, so we run the\u001b[39;00m\n\u001b[1;32m    946\u001b[0m   \u001b[38;5;66;03m# defunned version which is guaranteed to never create variables.\u001b[39;00m\n\u001b[0;32m--> 947\u001b[0m   \u001b[38;5;28;01mreturn\u001b[39;00m \u001b[38;5;28;43mself\u001b[39;49m\u001b[38;5;241;43m.\u001b[39;49m\u001b[43m_stateless_fn\u001b[49m\u001b[43m(\u001b[49m\u001b[38;5;241;43m*\u001b[39;49m\u001b[43margs\u001b[49m\u001b[43m,\u001b[49m\u001b[43m \u001b[49m\u001b[38;5;241;43m*\u001b[39;49m\u001b[38;5;241;43m*\u001b[39;49m\u001b[43mkwds\u001b[49m\u001b[43m)\u001b[49m  \u001b[38;5;66;03m# pylint: disable=not-callable\u001b[39;00m\n\u001b[1;32m    948\u001b[0m \u001b[38;5;28;01melif\u001b[39;00m \u001b[38;5;28mself\u001b[39m\u001b[38;5;241m.\u001b[39m_stateful_fn \u001b[38;5;129;01mis\u001b[39;00m \u001b[38;5;129;01mnot\u001b[39;00m \u001b[38;5;28;01mNone\u001b[39;00m:\n\u001b[1;32m    949\u001b[0m   \u001b[38;5;66;03m# Release the lock early so that multiple threads can perform the call\u001b[39;00m\n\u001b[1;32m    950\u001b[0m   \u001b[38;5;66;03m# in parallel.\u001b[39;00m\n\u001b[1;32m    951\u001b[0m   \u001b[38;5;28mself\u001b[39m\u001b[38;5;241m.\u001b[39m_lock\u001b[38;5;241m.\u001b[39mrelease()\n",
      "File \u001b[0;32m/usr/local/lib/python3.8/dist-packages/tensorflow/python/eager/function.py:2496\u001b[0m, in \u001b[0;36mFunction.__call__\u001b[0;34m(self, *args, **kwargs)\u001b[0m\n\u001b[1;32m   2493\u001b[0m \u001b[38;5;28;01mwith\u001b[39;00m \u001b[38;5;28mself\u001b[39m\u001b[38;5;241m.\u001b[39m_lock:\n\u001b[1;32m   2494\u001b[0m   (graph_function,\n\u001b[1;32m   2495\u001b[0m    filtered_flat_args) \u001b[38;5;241m=\u001b[39m \u001b[38;5;28mself\u001b[39m\u001b[38;5;241m.\u001b[39m_maybe_define_function(args, kwargs)\n\u001b[0;32m-> 2496\u001b[0m \u001b[38;5;28;01mreturn\u001b[39;00m \u001b[43mgraph_function\u001b[49m\u001b[38;5;241;43m.\u001b[39;49m\u001b[43m_call_flat\u001b[49m\u001b[43m(\u001b[49m\n\u001b[1;32m   2497\u001b[0m \u001b[43m    \u001b[49m\u001b[43mfiltered_flat_args\u001b[49m\u001b[43m,\u001b[49m\u001b[43m \u001b[49m\u001b[43mcaptured_inputs\u001b[49m\u001b[38;5;241;43m=\u001b[39;49m\u001b[43mgraph_function\u001b[49m\u001b[38;5;241;43m.\u001b[39;49m\u001b[43mcaptured_inputs\u001b[49m\u001b[43m)\u001b[49m\n",
      "File \u001b[0;32m/usr/local/lib/python3.8/dist-packages/tensorflow/python/eager/function.py:1862\u001b[0m, in \u001b[0;36mConcreteFunction._call_flat\u001b[0;34m(self, args, captured_inputs, cancellation_manager)\u001b[0m\n\u001b[1;32m   1858\u001b[0m possible_gradient_type \u001b[38;5;241m=\u001b[39m gradients_util\u001b[38;5;241m.\u001b[39mPossibleTapeGradientTypes(args)\n\u001b[1;32m   1859\u001b[0m \u001b[38;5;28;01mif\u001b[39;00m (possible_gradient_type \u001b[38;5;241m==\u001b[39m gradients_util\u001b[38;5;241m.\u001b[39mPOSSIBLE_GRADIENT_TYPES_NONE\n\u001b[1;32m   1860\u001b[0m     \u001b[38;5;129;01mand\u001b[39;00m executing_eagerly):\n\u001b[1;32m   1861\u001b[0m   \u001b[38;5;66;03m# No tape is watching; skip to running the function.\u001b[39;00m\n\u001b[0;32m-> 1862\u001b[0m   \u001b[38;5;28;01mreturn\u001b[39;00m \u001b[38;5;28mself\u001b[39m\u001b[38;5;241m.\u001b[39m_build_call_outputs(\u001b[38;5;28;43mself\u001b[39;49m\u001b[38;5;241;43m.\u001b[39;49m\u001b[43m_inference_function\u001b[49m\u001b[38;5;241;43m.\u001b[39;49m\u001b[43mcall\u001b[49m\u001b[43m(\u001b[49m\n\u001b[1;32m   1863\u001b[0m \u001b[43m      \u001b[49m\u001b[43mctx\u001b[49m\u001b[43m,\u001b[49m\u001b[43m \u001b[49m\u001b[43margs\u001b[49m\u001b[43m,\u001b[49m\u001b[43m \u001b[49m\u001b[43mcancellation_manager\u001b[49m\u001b[38;5;241;43m=\u001b[39;49m\u001b[43mcancellation_manager\u001b[49m\u001b[43m)\u001b[49m)\n\u001b[1;32m   1864\u001b[0m forward_backward \u001b[38;5;241m=\u001b[39m \u001b[38;5;28mself\u001b[39m\u001b[38;5;241m.\u001b[39m_select_forward_and_backward_functions(\n\u001b[1;32m   1865\u001b[0m     args,\n\u001b[1;32m   1866\u001b[0m     possible_gradient_type,\n\u001b[1;32m   1867\u001b[0m     executing_eagerly)\n\u001b[1;32m   1868\u001b[0m forward_function, args_with_tangents \u001b[38;5;241m=\u001b[39m forward_backward\u001b[38;5;241m.\u001b[39mforward()\n",
      "File \u001b[0;32m/usr/local/lib/python3.8/dist-packages/tensorflow/python/eager/function.py:499\u001b[0m, in \u001b[0;36m_EagerDefinedFunction.call\u001b[0;34m(self, ctx, args, cancellation_manager)\u001b[0m\n\u001b[1;32m    497\u001b[0m \u001b[38;5;28;01mwith\u001b[39;00m _InterpolateFunctionError(\u001b[38;5;28mself\u001b[39m):\n\u001b[1;32m    498\u001b[0m   \u001b[38;5;28;01mif\u001b[39;00m cancellation_manager \u001b[38;5;129;01mis\u001b[39;00m \u001b[38;5;28;01mNone\u001b[39;00m:\n\u001b[0;32m--> 499\u001b[0m     outputs \u001b[38;5;241m=\u001b[39m \u001b[43mexecute\u001b[49m\u001b[38;5;241;43m.\u001b[39;49m\u001b[43mexecute\u001b[49m\u001b[43m(\u001b[49m\n\u001b[1;32m    500\u001b[0m \u001b[43m        \u001b[49m\u001b[38;5;28;43mstr\u001b[39;49m\u001b[43m(\u001b[49m\u001b[38;5;28;43mself\u001b[39;49m\u001b[38;5;241;43m.\u001b[39;49m\u001b[43msignature\u001b[49m\u001b[38;5;241;43m.\u001b[39;49m\u001b[43mname\u001b[49m\u001b[43m)\u001b[49m\u001b[43m,\u001b[49m\n\u001b[1;32m    501\u001b[0m \u001b[43m        \u001b[49m\u001b[43mnum_outputs\u001b[49m\u001b[38;5;241;43m=\u001b[39;49m\u001b[38;5;28;43mself\u001b[39;49m\u001b[38;5;241;43m.\u001b[39;49m\u001b[43m_num_outputs\u001b[49m\u001b[43m,\u001b[49m\n\u001b[1;32m    502\u001b[0m \u001b[43m        \u001b[49m\u001b[43minputs\u001b[49m\u001b[38;5;241;43m=\u001b[39;49m\u001b[43margs\u001b[49m\u001b[43m,\u001b[49m\n\u001b[1;32m    503\u001b[0m \u001b[43m        \u001b[49m\u001b[43mattrs\u001b[49m\u001b[38;5;241;43m=\u001b[39;49m\u001b[43mattrs\u001b[49m\u001b[43m,\u001b[49m\n\u001b[1;32m    504\u001b[0m \u001b[43m        \u001b[49m\u001b[43mctx\u001b[49m\u001b[38;5;241;43m=\u001b[39;49m\u001b[43mctx\u001b[49m\u001b[43m)\u001b[49m\n\u001b[1;32m    505\u001b[0m   \u001b[38;5;28;01melse\u001b[39;00m:\n\u001b[1;32m    506\u001b[0m     outputs \u001b[38;5;241m=\u001b[39m execute\u001b[38;5;241m.\u001b[39mexecute_with_cancellation(\n\u001b[1;32m    507\u001b[0m         \u001b[38;5;28mstr\u001b[39m(\u001b[38;5;28mself\u001b[39m\u001b[38;5;241m.\u001b[39msignature\u001b[38;5;241m.\u001b[39mname),\n\u001b[1;32m    508\u001b[0m         num_outputs\u001b[38;5;241m=\u001b[39m\u001b[38;5;28mself\u001b[39m\u001b[38;5;241m.\u001b[39m_num_outputs,\n\u001b[0;32m   (...)\u001b[0m\n\u001b[1;32m    511\u001b[0m         ctx\u001b[38;5;241m=\u001b[39mctx,\n\u001b[1;32m    512\u001b[0m         cancellation_manager\u001b[38;5;241m=\u001b[39mcancellation_manager)\n",
      "File \u001b[0;32m/usr/local/lib/python3.8/dist-packages/tensorflow/python/eager/execute.py:54\u001b[0m, in \u001b[0;36mquick_execute\u001b[0;34m(op_name, num_outputs, inputs, attrs, ctx, name)\u001b[0m\n\u001b[1;32m     52\u001b[0m \u001b[38;5;28;01mtry\u001b[39;00m:\n\u001b[1;32m     53\u001b[0m   ctx\u001b[38;5;241m.\u001b[39mensure_initialized()\n\u001b[0;32m---> 54\u001b[0m   tensors \u001b[38;5;241m=\u001b[39m \u001b[43mpywrap_tfe\u001b[49m\u001b[38;5;241;43m.\u001b[39;49m\u001b[43mTFE_Py_Execute\u001b[49m\u001b[43m(\u001b[49m\u001b[43mctx\u001b[49m\u001b[38;5;241;43m.\u001b[39;49m\u001b[43m_handle\u001b[49m\u001b[43m,\u001b[49m\u001b[43m \u001b[49m\u001b[43mdevice_name\u001b[49m\u001b[43m,\u001b[49m\u001b[43m \u001b[49m\u001b[43mop_name\u001b[49m\u001b[43m,\u001b[49m\n\u001b[1;32m     55\u001b[0m \u001b[43m                                      \u001b[49m\u001b[43minputs\u001b[49m\u001b[43m,\u001b[49m\u001b[43m \u001b[49m\u001b[43mattrs\u001b[49m\u001b[43m,\u001b[49m\u001b[43m \u001b[49m\u001b[43mnum_outputs\u001b[49m\u001b[43m)\u001b[49m\n\u001b[1;32m     56\u001b[0m \u001b[38;5;28;01mexcept\u001b[39;00m core\u001b[38;5;241m.\u001b[39m_NotOkStatusException \u001b[38;5;28;01mas\u001b[39;00m e:\n\u001b[1;32m     57\u001b[0m   \u001b[38;5;28;01mif\u001b[39;00m name \u001b[38;5;129;01mis\u001b[39;00m \u001b[38;5;129;01mnot\u001b[39;00m \u001b[38;5;28;01mNone\u001b[39;00m:\n",
      "\u001b[0;31mKeyboardInterrupt\u001b[0m: "
     ]
    }
   ],
   "source": [
    "%%time\n",
    "result = model_pit.fit(train_batches_pit,validation_data=test_batches_pit, epochs=100, steps_per_epoch=83)"
   ]
  },
  {
   "cell_type": "markdown",
   "id": "a584cbf1-b6c6-44f8-9b58-0905d40e8d3e",
   "metadata": {},
   "source": [
    "## Evaluate the model"
   ]
  },
  {
   "cell_type": "code",
   "execution_count": 7,
   "id": "82fe3cef-6011-4209-bc8e-4ecd20927d73",
   "metadata": {},
   "outputs": [
    {
     "name": "stdout",
     "output_type": "stream",
     "text": [
      "21/21 [==============================] - 0s 20ms/step - loss: 0.0127 - acc: 0.9914 - f1_m: 0.4752 - recall_m: 0.3567\n"
     ]
    }
   ],
   "source": [
    "results = model_pit.evaluate(test_batches_pit)"
   ]
  },
  {
   "cell_type": "code",
   "execution_count": 8,
   "id": "98aaa809-907a-443c-af60-09d6cb85b583",
   "metadata": {},
   "outputs": [
    {
     "ename": "NameError",
     "evalue": "name 'result' is not defined",
     "output_type": "error",
     "traceback": [
      "\u001b[0;31m---------------------------------------------------------------------------\u001b[0m",
      "\u001b[0;31mNameError\u001b[0m                                 Traceback (most recent call last)",
      "Cell \u001b[0;32mIn[8], line 7\u001b[0m\n\u001b[1;32m      2\u001b[0m \u001b[38;5;28;01mimport\u001b[39;00m \u001b[38;5;21;01mmatplotlib\u001b[39;00m\u001b[38;5;21;01m.\u001b[39;00m\u001b[38;5;21;01mpyplot\u001b[39;00m \u001b[38;5;28;01mas\u001b[39;00m \u001b[38;5;21;01mplt\u001b[39;00m\n\u001b[1;32m      3\u001b[0m \u001b[38;5;66;03m#plt.plot(result.history['f1_m'])\u001b[39;00m\n\u001b[1;32m      4\u001b[0m \u001b[38;5;66;03m#plt.plot(result.history['val_f1_m'])\u001b[39;00m\n\u001b[0;32m----> 7\u001b[0m plt\u001b[38;5;241m.\u001b[39mplot(\u001b[43mresult\u001b[49m\u001b[38;5;241m.\u001b[39mhistory[\u001b[38;5;124m'\u001b[39m\u001b[38;5;124mf1_m\u001b[39m\u001b[38;5;124m'\u001b[39m])\n\u001b[1;32m     10\u001b[0m plt\u001b[38;5;241m.\u001b[39mplot(result\u001b[38;5;241m.\u001b[39mhistory[\u001b[38;5;124m'\u001b[39m\u001b[38;5;124mval_f1_m\u001b[39m\u001b[38;5;124m'\u001b[39m])\n\u001b[1;32m     13\u001b[0m plt\u001b[38;5;241m.\u001b[39mtitle(\u001b[38;5;124m'\u001b[39m\u001b[38;5;124mModel accuracy using f1 score\u001b[39m\u001b[38;5;124m'\u001b[39m)\n",
      "\u001b[0;31mNameError\u001b[0m: name 'result' is not defined"
     ]
    }
   ],
   "source": [
    "# summarize history for accuracy\n",
    "import matplotlib.pyplot as plt\n",
    "#plt.plot(result.history['f1_m'])\n",
    "#plt.plot(result.history['val_f1_m'])\n",
    "\n",
    "\n",
    "plt.plot(result.history['f1_m'])\n",
    "\n",
    "\n",
    "plt.plot(result.history['val_f1_m'])\n",
    "\n",
    "\n",
    "plt.title('Model accuracy using f1 score')\n",
    "plt.ylabel('F1 score')\n",
    "plt.xlabel('epoch')\n",
    "plt.ylim(0,1)\n",
    "plt.legend(['train', 'test'], loc='upper left')\n",
    "plt.show()"
   ]
  },
  {
   "cell_type": "code",
   "execution_count": null,
   "id": "92eed224-a8da-460b-b118-32373a1fe85d",
   "metadata": {},
   "outputs": [],
   "source": [
    "# size of plot\n",
    "import numpy as np\n",
    "plt.rcParams['figure.figsize'] = [16, 16]\n",
    "f, axarr = plt.subplots(1,3)\n",
    "i = 42\n",
    "#image \n",
    "testimage = X_test_pit[i]\n",
    "orgimage = np.squeeze(testimage)\n",
    "\n",
    "# label\n",
    "testlabel = Y_test_pit[i]\n",
    "testlabel = np.squeeze(testlabel)\n",
    "\n",
    "# prediction\n",
    "testimage = X_test_pit[i]\n",
    "testimage = np.reshape(testimage,[1,256,256,1])\n",
    "prediction_pit = model_pit.predict(testimage)\n",
    "pred_pit = np.squeeze(prediction_pit)\n",
    "\n",
    "\n",
    "# Image\n",
    "axarr[0].set_title('Original image')\n",
    "axarr[0].imshow(orgimage, cmap='Greys_r')\n",
    "\n",
    "# Label\n",
    "axarr[1].set_title('Labeled pits')\n",
    "axarr[1].imshow(testlabel)\n",
    "\n",
    "# Prediction\n",
    "axarr[2].set_title('Predicted pits')\n",
    "axarr[2].imshow(pred_pit>0.5)"
   ]
  }
 ],
 "metadata": {
  "kernelspec": {
   "display_name": "Python 3 (ipykernel)",
   "language": "python",
   "name": "python3"
  },
  "language_info": {
   "codemirror_mode": {
    "name": "ipython",
    "version": 3
   },
   "file_extension": ".py",
   "mimetype": "text/x-python",
   "name": "python",
   "nbconvert_exporter": "python",
   "pygments_lexer": "ipython3",
   "version": "3.8.10"
  }
 },
 "nbformat": 4,
 "nbformat_minor": 5
}
