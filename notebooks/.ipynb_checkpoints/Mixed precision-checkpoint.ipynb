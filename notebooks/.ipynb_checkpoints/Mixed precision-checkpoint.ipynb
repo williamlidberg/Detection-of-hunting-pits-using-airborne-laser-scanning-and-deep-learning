{
 "cells": [
  {
   "cell_type": "markdown",
   "id": "83bdea8c-5b88-44ec-bc95-bc7ae6eaf700",
   "metadata": {},
   "source": [
    "# Mixed precision training"
   ]
  },
  {
   "cell_type": "code",
   "execution_count": null,
   "id": "83b82ffa-7bb4-4b38-acb6-94214bad16aa",
   "metadata": {},
   "outputs": [],
   "source": [
    "import os\n",
    "import imageio.v2 as imageio\n",
    "from skimage.transform import resize # For preprocessing\n",
    "import tensorflow as tf\n",
    "tf.keras.utils.set_random_seed(0)"
   ]
  },
  {
   "cell_type": "markdown",
   "id": "852fad52-1842-46fa-b8a8-1f2179546d21",
   "metadata": {},
   "source": [
    "## Load data"
   ]
  },
  {
   "cell_type": "code",
   "execution_count": null,
   "id": "502e8f05-7048-4074-8532-b2c0448b86c2",
   "metadata": {},
   "outputs": [],
   "source": [
    "%%time\n",
    "\n",
    "IMG_WIDTH = 256 # the original images are 250x250. is this a ok way to change size?\n",
    "IMG_HEIGHT = 256\n",
    "IMG_CHANNELS = 1 # a grey scale image only has one band for color.\n",
    "NUM_CLASSES = 1 # 0 = no crater and 1 = crater\n",
    "\n",
    "#### Training data ####\n",
    "TRAIN_PATH = '/workspace/data/final_data_05m/training/'\n",
    "IMG_DIR = 'depthinsink'\n",
    "GT_DIR = 'labels'\n",
    "X_train_pit = []\n",
    "Y_train_pit = []\n",
    "\n",
    "# load from disk\n",
    "img_path = os.path.join(TRAIN_PATH, IMG_DIR)\n",
    "gt_path = os.path.join(TRAIN_PATH, GT_DIR)\n",
    "for image in (os.listdir(img_path)):\n",
    "    img = imageio.imread(os.path.join(img_path, image))\n",
    "\n",
    "    img = resize(img, (IMG_WIDTH, IMG_HEIGHT,1), mode='constant', preserve_range=True)\n",
    "    \n",
    "    mask = imageio.imread(os.path.join(gt_path, image))\n",
    "    mask = resize(mask, (IMG_WIDTH, IMG_HEIGHT, 1), preserve_range=True, order=0).astype(int)\n",
    "    \n",
    "    X_train_pit.append(img)\n",
    "    Y_train_pit.append(mask)\n",
    "\n",
    "#### Test data ####\n",
    "TEST_PATH = '/workspace/data/final_data_05m/testing/'\n",
    "IMG_DIR = 'depthinsink'\n",
    "GT_DIR = 'labels'\n",
    "X_test_pit = []\n",
    "Y_test_pit = []\n",
    "\n",
    "# load from disk\n",
    "img_path = os.path.join(TEST_PATH, IMG_DIR)\n",
    "gt_path = os.path.join(TEST_PATH, GT_DIR)\n",
    "for image in (os.listdir(img_path)):\n",
    "    img = imageio.imread(os.path.join(img_path, image))\n",
    "    img = resize(img, (IMG_WIDTH, IMG_HEIGHT,1), mode='constant', preserve_range=True)\n",
    "    mask = imageio.imread(os.path.join(gt_path, image))\n",
    "    mask = resize(mask, (IMG_WIDTH, IMG_HEIGHT, 1), preserve_range=True, order=0).astype(int)\n",
    "    \n",
    "    X_test_pit.append(img)\n",
    "    Y_test_pit.append(mask)\n",
    "\n",
    "# convert list of numpy arrays into tensorflow dataset for further processing\n",
    "train_images_pit = tf.data.Dataset.from_tensor_slices((X_train_pit, Y_train_pit))\n",
    "test_images_pit = tf.data.Dataset.from_tensor_slices((X_test_pit, Y_test_pit))"
   ]
  }
 ],
 "metadata": {
  "kernelspec": {
   "display_name": "Python 3 (ipykernel)",
   "language": "python",
   "name": "python3"
  },
  "language_info": {
   "codemirror_mode": {
    "name": "ipython",
    "version": 3
   },
   "file_extension": ".py",
   "mimetype": "text/x-python",
   "name": "python",
   "nbconvert_exporter": "python",
   "pygments_lexer": "ipython3",
   "version": "3.8.10"
  }
 },
 "nbformat": 4,
 "nbformat_minor": 5
}
